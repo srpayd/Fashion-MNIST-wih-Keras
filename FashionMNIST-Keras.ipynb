{
 "cells": [
  {
   "cell_type": "markdown",
   "metadata": {},
   "source": [
    "# Fashion-MNIST with Keras / Trendyol Case  14.08.2019 <br/>Serap Aydogdu \n"
   ]
  },
  {
   "cell_type": "markdown",
   "metadata": {},
   "source": [
    "- Fashion-MNIST is a dataset of Zalando's article images—consisting of a training set of 60,000 examples and a test set of 10,000 examples.\n",
    "- Each example is a 28x28 grayscale image, associated with a label from 10 classes."
   ]
  },
  {
   "cell_type": "markdown",
   "metadata": {},
   "source": [
    "# 1. Analyzing Data<br/>\n",
    "* **Import Libraries** <br/><br/>\n",
    "* **Read Data** <br/><br/>\n",
    "* **Explore Data** <br/><br/>\n",
    "* **Visualize Data** <br/><br/>"
   ]
  },
  {
   "cell_type": "markdown",
   "metadata": {},
   "source": [
    "### a. Import Libraries"
   ]
  },
  {
   "cell_type": "code",
   "execution_count": 1,
   "metadata": {},
   "outputs": [
    {
     "name": "stderr",
     "output_type": "stream",
     "text": [
      "Using TensorFlow backend.\n"
     ]
    }
   ],
   "source": [
    "# Ignore warnings :\n",
    "import warnings\n",
    "warnings.filterwarnings('ignore')\n",
    "\n",
    "# Handle table-like data and matrices :\n",
    "from keras.utils import to_categorical\n",
    "import numpy as np\n",
    "import pandas as pd\n",
    "\n",
    "# Preprocessing :\n",
    "from sklearn.preprocessing import MinMaxScaler , StandardScaler, Imputer, LabelEncoder\n",
    "from sklearn import preprocessing\n",
    "\n",
    "# Regression\n",
    "from sklearn.metrics import mean_squared_log_error,mean_squared_error, r2_score,mean_absolute_error \n",
    "\n",
    "# Classification\n",
    "from sklearn.metrics import accuracy_score,precision_score,recall_score,f1_score  \n",
    "\n",
    "# Modelling Helpers :\n",
    "from sklearn.preprocessing import Imputer , Normalizer , scale\n",
    "from sklearn.model_selection import train_test_split\n",
    "from sklearn.metrics import confusion_matrix, classification_report\n",
    "from sklearn.feature_selection import RFECV\n",
    "from sklearn.model_selection import GridSearchCV , KFold , cross_val_score\n",
    "\n",
    "# Deep Learning Libraries\n",
    "from keras.models import Sequential, load_model  # Sequencial ile weigthleri initialize ediyoruz.\n",
    "from keras.layers import Dense, Dropout, Flatten  # Dense ile layerlarımızı construct ediyoruz.\n",
    "from keras.layers import Conv2D, MaxPooling2D, BatchNormalization\n",
    "from keras.optimizers import Adam,SGD,Adagrad,Adadelta,RMSprop\n",
    "from keras.preprocessing.image import ImageDataGenerator\n",
    "from keras.callbacks import ReduceLROnPlateau, LearningRateScheduler\n",
    "from keras.utils import to_categorical\n",
    "\n",
    "# Visualisation\n",
    "import matplotlib as mpl\n",
    "from matplotlib.pyplot import figure\n",
    "import matplotlib.pyplot as plt\n",
    "import matplotlib.pylab as pylab\n",
    "import seaborn as sns\n",
    "import missingno as msno\n",
    "\n",
    "# Configure visualisations\n",
    "%matplotlib inline\n",
    "mpl.style.use( 'ggplot' )\n",
    "plt.style.use('fivethirtyeight')\n",
    "sns.set(context=\"notebook\", palette=\"dark\", style = 'whitegrid' , color_codes=True)"
   ]
  },
  {
   "cell_type": "markdown",
   "metadata": {},
   "source": [
    "### b. Read Data"
   ]
  },
  {
   "cell_type": "code",
   "execution_count": 2,
   "metadata": {},
   "outputs": [],
   "source": [
    "data_train = pd.read_csv('fashion-mnist_train.csv')\n",
    "data_test = pd.read_csv('fashion-mnist_test.csv')\n",
    "\n",
    "df_train = data_train.copy()\n",
    "df_test = data_test.copy()"
   ]
  },
  {
   "cell_type": "code",
   "execution_count": 3,
   "metadata": {},
   "outputs": [
    {
     "data": {
      "text/html": [
       "<div>\n",
       "<style scoped>\n",
       "    .dataframe tbody tr th:only-of-type {\n",
       "        vertical-align: middle;\n",
       "    }\n",
       "\n",
       "    .dataframe tbody tr th {\n",
       "        vertical-align: top;\n",
       "    }\n",
       "\n",
       "    .dataframe thead th {\n",
       "        text-align: right;\n",
       "    }\n",
       "</style>\n",
       "<table border=\"1\" class=\"dataframe\">\n",
       "  <thead>\n",
       "    <tr style=\"text-align: right;\">\n",
       "      <th></th>\n",
       "      <th>label</th>\n",
       "      <th>pixel1</th>\n",
       "      <th>pixel2</th>\n",
       "      <th>pixel3</th>\n",
       "      <th>pixel4</th>\n",
       "      <th>pixel5</th>\n",
       "      <th>pixel6</th>\n",
       "      <th>pixel7</th>\n",
       "      <th>pixel8</th>\n",
       "      <th>pixel9</th>\n",
       "      <th>...</th>\n",
       "      <th>pixel775</th>\n",
       "      <th>pixel776</th>\n",
       "      <th>pixel777</th>\n",
       "      <th>pixel778</th>\n",
       "      <th>pixel779</th>\n",
       "      <th>pixel780</th>\n",
       "      <th>pixel781</th>\n",
       "      <th>pixel782</th>\n",
       "      <th>pixel783</th>\n",
       "      <th>pixel784</th>\n",
       "    </tr>\n",
       "  </thead>\n",
       "  <tbody>\n",
       "    <tr>\n",
       "      <th>0</th>\n",
       "      <td>2</td>\n",
       "      <td>0</td>\n",
       "      <td>0</td>\n",
       "      <td>0</td>\n",
       "      <td>0</td>\n",
       "      <td>0</td>\n",
       "      <td>0</td>\n",
       "      <td>0</td>\n",
       "      <td>0</td>\n",
       "      <td>0</td>\n",
       "      <td>...</td>\n",
       "      <td>0</td>\n",
       "      <td>0</td>\n",
       "      <td>0</td>\n",
       "      <td>0</td>\n",
       "      <td>0</td>\n",
       "      <td>0</td>\n",
       "      <td>0</td>\n",
       "      <td>0</td>\n",
       "      <td>0</td>\n",
       "      <td>0</td>\n",
       "    </tr>\n",
       "    <tr>\n",
       "      <th>1</th>\n",
       "      <td>9</td>\n",
       "      <td>0</td>\n",
       "      <td>0</td>\n",
       "      <td>0</td>\n",
       "      <td>0</td>\n",
       "      <td>0</td>\n",
       "      <td>0</td>\n",
       "      <td>0</td>\n",
       "      <td>0</td>\n",
       "      <td>0</td>\n",
       "      <td>...</td>\n",
       "      <td>0</td>\n",
       "      <td>0</td>\n",
       "      <td>0</td>\n",
       "      <td>0</td>\n",
       "      <td>0</td>\n",
       "      <td>0</td>\n",
       "      <td>0</td>\n",
       "      <td>0</td>\n",
       "      <td>0</td>\n",
       "      <td>0</td>\n",
       "    </tr>\n",
       "    <tr>\n",
       "      <th>2</th>\n",
       "      <td>6</td>\n",
       "      <td>0</td>\n",
       "      <td>0</td>\n",
       "      <td>0</td>\n",
       "      <td>0</td>\n",
       "      <td>0</td>\n",
       "      <td>0</td>\n",
       "      <td>0</td>\n",
       "      <td>5</td>\n",
       "      <td>0</td>\n",
       "      <td>...</td>\n",
       "      <td>0</td>\n",
       "      <td>0</td>\n",
       "      <td>0</td>\n",
       "      <td>30</td>\n",
       "      <td>43</td>\n",
       "      <td>0</td>\n",
       "      <td>0</td>\n",
       "      <td>0</td>\n",
       "      <td>0</td>\n",
       "      <td>0</td>\n",
       "    </tr>\n",
       "    <tr>\n",
       "      <th>3</th>\n",
       "      <td>0</td>\n",
       "      <td>0</td>\n",
       "      <td>0</td>\n",
       "      <td>0</td>\n",
       "      <td>1</td>\n",
       "      <td>2</td>\n",
       "      <td>0</td>\n",
       "      <td>0</td>\n",
       "      <td>0</td>\n",
       "      <td>0</td>\n",
       "      <td>...</td>\n",
       "      <td>3</td>\n",
       "      <td>0</td>\n",
       "      <td>0</td>\n",
       "      <td>0</td>\n",
       "      <td>0</td>\n",
       "      <td>1</td>\n",
       "      <td>0</td>\n",
       "      <td>0</td>\n",
       "      <td>0</td>\n",
       "      <td>0</td>\n",
       "    </tr>\n",
       "    <tr>\n",
       "      <th>4</th>\n",
       "      <td>3</td>\n",
       "      <td>0</td>\n",
       "      <td>0</td>\n",
       "      <td>0</td>\n",
       "      <td>0</td>\n",
       "      <td>0</td>\n",
       "      <td>0</td>\n",
       "      <td>0</td>\n",
       "      <td>0</td>\n",
       "      <td>0</td>\n",
       "      <td>...</td>\n",
       "      <td>0</td>\n",
       "      <td>0</td>\n",
       "      <td>0</td>\n",
       "      <td>0</td>\n",
       "      <td>0</td>\n",
       "      <td>0</td>\n",
       "      <td>0</td>\n",
       "      <td>0</td>\n",
       "      <td>0</td>\n",
       "      <td>0</td>\n",
       "    </tr>\n",
       "  </tbody>\n",
       "</table>\n",
       "<p>5 rows × 785 columns</p>\n",
       "</div>"
      ],
      "text/plain": [
       "   label  pixel1  pixel2  pixel3  pixel4  pixel5  pixel6  pixel7  pixel8  \\\n",
       "0      2       0       0       0       0       0       0       0       0   \n",
       "1      9       0       0       0       0       0       0       0       0   \n",
       "2      6       0       0       0       0       0       0       0       5   \n",
       "3      0       0       0       0       1       2       0       0       0   \n",
       "4      3       0       0       0       0       0       0       0       0   \n",
       "\n",
       "   pixel9    ...     pixel775  pixel776  pixel777  pixel778  pixel779  \\\n",
       "0       0    ...            0         0         0         0         0   \n",
       "1       0    ...            0         0         0         0         0   \n",
       "2       0    ...            0         0         0        30        43   \n",
       "3       0    ...            3         0         0         0         0   \n",
       "4       0    ...            0         0         0         0         0   \n",
       "\n",
       "   pixel780  pixel781  pixel782  pixel783  pixel784  \n",
       "0         0         0         0         0         0  \n",
       "1         0         0         0         0         0  \n",
       "2         0         0         0         0         0  \n",
       "3         1         0         0         0         0  \n",
       "4         0         0         0         0         0  \n",
       "\n",
       "[5 rows x 785 columns]"
      ]
     },
     "execution_count": 3,
     "metadata": {},
     "output_type": "execute_result"
    }
   ],
   "source": [
    "df_train.head()"
   ]
  },
  {
   "cell_type": "code",
   "execution_count": 4,
   "metadata": {},
   "outputs": [
    {
     "data": {
      "image/png": "[encoded data removed]",
      "text/plain": [
       "<Figure size 432x288 with 1 Axes>"
      ]
     },
     "metadata": {
      "needs_background": "light"
     },
     "output_type": "display_data"
    }
   ],
   "source": [
    "img = df_train.drop('label', axis=1).iloc[2].as_matrix()\n",
    "img = img.reshape(28,28)\n",
    "plt.imshow(img,cmap=\"gray\")\n",
    "plt.title(df_train.iloc[2,0])\n",
    "plt.axis(\"off\")\n",
    "plt.show()"
   ]
  },
  {
   "cell_type": "markdown",
   "metadata": {},
   "source": [
    "### c. Explore Data"
   ]
  },
  {
   "cell_type": "code",
   "execution_count": 5,
   "metadata": {},
   "outputs": [
    {
     "name": "stdout",
     "output_type": "stream",
     "text": [
      "Train:  (60000, 785)\n",
      "Test:  (10000, 785)\n"
     ]
    }
   ],
   "source": [
    "print('Train: ', df_train.shape)\n",
    "print('Test: ', df_test.shape)"
   ]
  },
  {
   "cell_type": "markdown",
   "metadata": {},
   "source": [
    "- **So, there are 60,000 Training Samples and 10,000 Test Samples.**\n",
    "- **Each example is a 28x28 grayscale image, associated with a label from 10 classes.**\n",
    "        - Each pixel has a single pixel-value associated with it, indicating the lightness or    darkness of that pixel, \n",
    "        - with higher numbers meaning darker.\n",
    "        - This pixel-value is an integer between 0 and 255, inclusive.\n",
    "\n",
    "- **The first column of the Training Samples consists of Class Labels and represents the article of Clothing.**"
   ]
  },
  {
   "cell_type": "code",
   "execution_count": 6,
   "metadata": {},
   "outputs": [
    {
     "data": {
      "text/plain": [
       "array([2, 9, 6, 0, 3, 4, 5, 8, 7, 1], dtype=int64)"
      ]
     },
     "execution_count": 6,
     "metadata": {},
     "output_type": "execute_result"
    }
   ],
   "source": [
    "df_train[\"label\"].unique()"
   ]
  },
  {
   "cell_type": "markdown",
   "metadata": {},
   "source": [
    "**Labels :**\n",
    "\n",
    "0 - T-shirt/top <br/>\n",
    "1 - Trouser <br/>\n",
    "2 - Pullover <br/>\n",
    "3 - Dress <br/>\n",
    "4 - Coat <br/>\n",
    "5 - Sandals <br/>\n",
    "6 - Shirt <br/>\n",
    "7 - Sneaker <br/>\n",
    "8 - Bag <br/>\n",
    "9 - Ankle Boots <br/>"
   ]
  },
  {
   "cell_type": "code",
   "execution_count": 7,
   "metadata": {},
   "outputs": [
    {
     "data": {
      "text/plain": [
       "9    6000\n",
       "8    6000\n",
       "7    6000\n",
       "6    6000\n",
       "5    6000\n",
       "4    6000\n",
       "3    6000\n",
       "2    6000\n",
       "1    6000\n",
       "0    6000\n",
       "Name: label, dtype: int64"
      ]
     },
     "execution_count": 7,
     "metadata": {},
     "output_type": "execute_result"
    }
   ],
   "source": [
    "## Distribution of Labels\n",
    "df_train[\"label\"].value_counts()"
   ]
  },
  {
   "cell_type": "code",
   "execution_count": 8,
   "metadata": {},
   "outputs": [
    {
     "data": {
      "text/plain": [
       "7    1000\n",
       "6    1000\n",
       "5    1000\n",
       "4    1000\n",
       "3    1000\n",
       "2    1000\n",
       "9    1000\n",
       "1    1000\n",
       "8    1000\n",
       "0    1000\n",
       "Name: label, dtype: int64"
      ]
     },
     "execution_count": 8,
     "metadata": {},
     "output_type": "execute_result"
    }
   ],
   "source": [
    "## Distribution of Labels\n",
    "df_test[\"label\"].value_counts()"
   ]
  },
  {
   "cell_type": "markdown",
   "metadata": {},
   "source": [
    "Each class distributed equally"
   ]
  },
  {
   "cell_type": "code",
   "execution_count": 9,
   "metadata": {},
   "outputs": [
    {
     "name": "stdout",
     "output_type": "stream",
     "text": [
      "False\n",
      "False\n"
     ]
    }
   ],
   "source": [
    "# Is there any null values or not ?\n",
    "print(df_train.isnull().values.any())\n",
    "print(df_test.isnull().values.any())"
   ]
  },
  {
   "cell_type": "markdown",
   "metadata": {},
   "source": [
    "There is no any null values"
   ]
  },
  {
   "cell_type": "markdown",
   "metadata": {},
   "source": [
    "### d. Visualize Data"
   ]
  },
  {
   "cell_type": "code",
   "execution_count": 10,
   "metadata": {},
   "outputs": [
    {
     "data": {
      "image/png": "[encoded data removed]",
      "text/plain": [
       "<Figure size 576x576 with 25 Axes>"
      ]
     },
     "metadata": {
      "needs_background": "light"
     },
     "output_type": "display_data"
    }
   ],
   "source": [
    "# Mapping Classes\n",
    "clothing = {0 : 'T-shirt/top',\n",
    "            1 : 'Trouser',\n",
    "            2 : 'Pullover',\n",
    "            3 : 'Dress',\n",
    "            4 : 'Coat',\n",
    "            5 : 'Sandal',\n",
    "            6 : 'Shirt',\n",
    "            7 : 'Sneaker',\n",
    "            8 : 'Bag',\n",
    "            9 : 'Ankle boot'}\n",
    "\n",
    "\n",
    "fig, axes = plt.subplots(5, 5, figsize = (8,8))\n",
    "for row in axes:\n",
    "    for axe in row:\n",
    "        index = np.random.randint(60000)\n",
    "        img = df_train.drop('label', axis=1).values[index].reshape(28,28)\n",
    "        cloths = df_train['label'][index]\n",
    "        axe.imshow(img, cmap='gray')\n",
    "        axe.set_title(clothing[cloths])\n",
    "        axe.set_axis_off()\n"
   ]
  },
  {
   "cell_type": "markdown",
   "metadata": {},
   "source": [
    "# 2. Data Preparation\n",
    "\n",
    "* **Normalization**\n",
    "    * Normalization makes training less sensitive to the scale of features, so we can better solve for coefficients and weights.\n",
    "    * If we perform normalization, CNN works faster.\n",
    "    * They need to be scaled down to [0,1] in order for Optimization Algorithms to work much faster. Here, we acheive Zero Mean       and Unit Variance. <br/><br/>\n",
    "\n",
    "* **Reshape**\n",
    "    * Train and test images (28 x 28)\n",
    "    * We reshape all data to 28x28x1 3D matrices.\n",
    "    * Keras needs an extra dimension in the end which correspond to channels. Our images are gray scaled so it use only one channel. <br/><br/>\n",
    "    \n",
    "* **Label Encoding**\n",
    "    * Encode labels to one hot vectors\n",
    "        * 2 => [0,0,1,0,0,0,0,0,0,0]\n",
    "        * 4 => [0,0,0,0,1,0,0,0,0,0]\n",
    "        \n",
    "* **Train-Validation**\n",
    "    * We split train data as train and validation data set before testing the result of training with test data."
   ]
  },
  {
   "cell_type": "markdown",
   "metadata": {},
   "source": [
    "### a. Normalization, Reshaping and Label Encoding"
   ]
  },
  {
   "cell_type": "code",
   "execution_count": 11,
   "metadata": {},
   "outputs": [],
   "source": [
    "# put labels into y_train variable\n",
    "y_train = df_train[\"label\"]\n",
    "X_train = df_train.drop(labels = [\"label\"],axis = 1) \n",
    "\n",
    "# put labels into y_test variable\n",
    "y_test = df_test[\"label\"]\n",
    "X_test = df_test.drop(labels = [\"label\"],axis = 1) "
   ]
  },
  {
   "cell_type": "code",
   "execution_count": 12,
   "metadata": {},
   "outputs": [
    {
     "data": {
      "text/plain": [
       "(60000,)"
      ]
     },
     "execution_count": 12,
     "metadata": {},
     "output_type": "execute_result"
    }
   ],
   "source": [
    "y_train.shape"
   ]
  },
  {
   "cell_type": "code",
   "execution_count": 13,
   "metadata": {},
   "outputs": [
    {
     "data": {
      "text/plain": [
       "(10000,)"
      ]
     },
     "execution_count": 13,
     "metadata": {},
     "output_type": "execute_result"
    }
   ],
   "source": [
    "y_test.shape"
   ]
  },
  {
   "cell_type": "code",
   "execution_count": 14,
   "metadata": {},
   "outputs": [
    {
     "name": "stdout",
     "output_type": "stream",
     "text": [
      "x_train shape:  (60000, 784)\n",
      "X_test shape:  (10000, 784)\n"
     ]
    }
   ],
   "source": [
    "# Normalize the data\n",
    "X_train = X_train / 255.0\n",
    "X_test = X_test / 255.0\n",
    "print(\"x_train shape: \",X_train.shape)\n",
    "print(\"X_test shape: \",X_test.shape)"
   ]
  },
  {
   "cell_type": "code",
   "execution_count": 15,
   "metadata": {},
   "outputs": [
    {
     "name": "stdout",
     "output_type": "stream",
     "text": [
      "x_train shape:  (60000, 28, 28, 1)\n",
      "test shape:  (10000, 28, 28, 1)\n"
     ]
    }
   ],
   "source": [
    "# Reshape\n",
    "X_train = X_train.values.reshape(-1,28,28,1)\n",
    "test = X_test.values.reshape(-1,28,28,1)\n",
    "print(\"x_train shape: \",X_train.shape)\n",
    "print(\"test shape: \",test.shape)"
   ]
  },
  {
   "cell_type": "code",
   "execution_count": 16,
   "metadata": {},
   "outputs": [],
   "source": [
    "# Label Encoding (one-hot-encoding)\n",
    "from keras.utils.np_utils import to_categorical \n",
    "y_train = to_categorical(y_train, num_classes = 10)\n",
    "y_test = to_categorical(y_test, num_classes = 10)"
   ]
  },
  {
   "cell_type": "code",
   "execution_count": 17,
   "metadata": {},
   "outputs": [
    {
     "data": {
      "text/plain": [
       "(10000, 10)"
      ]
     },
     "execution_count": 17,
     "metadata": {},
     "output_type": "execute_result"
    }
   ],
   "source": [
    "y_test.shape"
   ]
  },
  {
   "cell_type": "markdown",
   "metadata": {},
   "source": [
    "### b. Train - Validation Split"
   ]
  },
  {
   "cell_type": "code",
   "execution_count": 18,
   "metadata": {},
   "outputs": [
    {
     "name": "stdout",
     "output_type": "stream",
     "text": [
      "X_train shape (48000, 28, 28, 1)\n",
      "X_val shape (12000, 28, 28, 1)\n",
      "y_train shape (48000, 10)\n",
      "y_val shape (12000, 10)\n"
     ]
    }
   ],
   "source": [
    "# Split the train and the validation set for the fitting\n",
    "from sklearn.model_selection import train_test_split\n",
    "X_train, X_val, y_train, y_val = train_test_split(X_train, y_train, test_size = 0.2, random_state=42)\n",
    "print(\"X_train shape\",X_train.shape)\n",
    "print(\"X_val shape\",X_val.shape)\n",
    "print(\"y_train shape\",y_train.shape)\n",
    "print(\"y_val shape\",y_val.shape)"
   ]
  },
  {
   "cell_type": "markdown",
   "metadata": {},
   "source": [
    "# 3. Implementing with Keras\n",
    "Convolutional Neural Network (CNN) is used for image classification, object detection. \n",
    "\n",
    "The main structural feature of CNN is that all the neurons are connected to each other. So, When it comes to images, there seems to be little correlation or relation between two individual pixels unless they are close to each other. This leads to the idea of Convolutional Layers and Pooling Layers."
   ]
  },
  {
   "cell_type": "markdown",
   "metadata": {},
   "source": [
    "### a. Create Model\n",
    "* conv => max pool => dropout => conv => max pool => dropout=> conv => max pool => dropout => fully connected (2 layer)\n",
    "* Dropout: Dropout is a technique where randomly selected neurons are ignored during training for preventting to overfitting. The remaining Neurons learn more features and this reduces the dependency on any one Neuron."
   ]
  },
  {
   "cell_type": "code",
   "execution_count": 19,
   "metadata": {},
   "outputs": [],
   "source": [
    "import keras\n",
    "from keras.models import Sequential\n",
    "from keras.layers import Dense, Dropout, Flatten\n",
    "from keras.layers import Conv2D, MaxPooling2D\n",
    "from keras.layers.normalization import BatchNormalization"
   ]
  },
  {
   "cell_type": "code",
   "execution_count": 20,
   "metadata": {},
   "outputs": [],
   "source": [
    "num_classes = 10"
   ]
  },
  {
   "cell_type": "code",
   "execution_count": 21,
   "metadata": {},
   "outputs": [
    {
     "name": "stdout",
     "output_type": "stream",
     "text": [
      "WARNING:tensorflow:From C:\\ProgramData\\Anaconda3\\lib\\site-packages\\tensorflow\\python\\framework\\op_def_library.py:263: colocate_with (from tensorflow.python.framework.ops) is deprecated and will be removed in a future version.\n",
      "Instructions for updating:\n",
      "Colocations handled automatically by placer.\n",
      "WARNING:tensorflow:From C:\\ProgramData\\Anaconda3\\lib\\site-packages\\keras\\backend\\tensorflow_backend.py:3721: calling dropout (from tensorflow.python.ops.nn_ops) with keep_prob is deprecated and will be removed in a future version.\n",
      "Instructions for updating:\n",
      "Please use `rate` instead of `keep_prob`. Rate should be set to `rate = 1 - keep_prob`.\n"
     ]
    }
   ],
   "source": [
    "# initial neural network structure. Sequential is a structure that will added layers after.\n",
    "model = Sequential() \n",
    "# Bu NN yapısına layerlarımızı eklememiz gerekiyor.\n",
    "\n",
    "# Convolution layer\n",
    "# Pooling layer\n",
    "# Flatten layer\n",
    "# Neural Network hidden layers\n",
    "\n",
    "\n",
    "# Öncelikle bir convolution operasyonu için layer olusturualım. Buna 8 tane feature detect eden filtre uygulayalım.\n",
    "# same padding uyguluyoruz böylece input matristen önemli verileri kaybetmeyeden aynı size convolution matrisler olusmus olacak.\n",
    "# activation: relu fonksiyonu. activasyon fonksiyonum : relu olsun. Relu outputu 0 dan kücükse 0 büyükse o degeri alsın diyoruz. (0,z) arasında range eder. Oldukca güclü bir aktivasyon fonksiyonudur sigmoid ve tanh göre.\n",
    "# kernel_initializer ise weight ve bias için initial degerleri belirledigimiz parametre buda normal dagılan rastgele degerleri içersin baslangıcta.\n",
    "model.add(Conv2D(32, kernel_size=(3, 3),\n",
    "                 padding = 'Same',                  \n",
    "                 activation='relu',\n",
    "                 kernel_initializer='he_normal',\n",
    "                 input_shape=(28,28,1)))\n",
    "# (2*2) lik bir matris ile sub sampling yapıyor. Detaylardan cıakrak genelleştirme yapıyor. Overfit engellemek için bu adım.\n",
    "model.add(MaxPooling2D(pool_size=(2, 2)))\n",
    "# 4 te 1 hidden unitleri kapatıyorum. Buda overfit engellemek için.\n",
    "model.add(Dropout(0.25))\n",
    "\n",
    "model.add(Conv2D(64, (3, 3), activation='relu', padding = 'Same'))\n",
    "model.add(MaxPooling2D(pool_size=(2, 2)))\n",
    "model.add(Dropout(0.25))\n",
    "model.add(Conv2D(128, (3, 3), activation='relu', padding = 'Same'))\n",
    "model.add(MaxPooling2D(pool_size=(2, 2)))\n",
    "model.add(Dropout(0.4))\n",
    "# fully connected\n",
    "model.add(Flatten())\n",
    "# Bir hidden layer ekliyorum. \n",
    "model.add(Dense(128, activation='relu')) \n",
    "model.add(Dropout(0.3))\n",
    "# Bir de output layer ekliyorum. softmax, multi classlar için kullanılıyor.\n",
    "model.add(Dense(num_classes, activation='softmax'))\n"
   ]
  },
  {
   "cell_type": "markdown",
   "metadata": {},
   "source": [
    "### b. Define Optimizer"
   ]
  },
  {
   "cell_type": "code",
   "execution_count": 23,
   "metadata": {},
   "outputs": [],
   "source": [
    "# Optimizer ise backward propagation için kullanacagım method. Adam optimizer en etkili optimizasyon fonksiyonlarından biri NN de. \n",
    "# Optimizasyonda min. noktaya giderken ilerleyişimizi hızlandırıp, yavaslatan bir ayar bu.\n",
    "# Gradient descentte learning rate'i sabit tutuyorken Adam opt. de learning rate  adaptive momentum sekilde güncellenerek daha hızlı ögrenir.\n",
    "optimizer = Adam(lr=0.001, beta_1=0.9, beta_2=0.999 )"
   ]
  },
  {
   "cell_type": "markdown",
   "metadata": {},
   "source": [
    "### c. Compiling the Model"
   ]
  },
  {
   "cell_type": "code",
   "execution_count": 24,
   "metadata": {},
   "outputs": [],
   "source": [
    "# Compiling the model (For Multi-class Classification we use \"categorical_crossentropy\")\n",
    "# Then, We need to specify the metric to evaluate our models performance, accuracy\n",
    "model.compile(optimizer=optimizer, loss=\"categorical_crossentropy\", metrics=[\"accuracy\"])"
   ]
  },
  {
   "cell_type": "markdown",
   "metadata": {},
   "source": [
    "### d. Model Summary"
   ]
  },
  {
   "cell_type": "code",
   "execution_count": 25,
   "metadata": {},
   "outputs": [
    {
     "name": "stdout",
     "output_type": "stream",
     "text": [
      "Model: \"sequential_2\"\n",
      "_________________________________________________________________\n",
      "Layer (type)                 Output Shape              Param #   \n",
      "=================================================================\n",
      "conv2d_4 (Conv2D)            (None, 28, 28, 32)        320       \n",
      "_________________________________________________________________\n",
      "max_pooling2d_4 (MaxPooling2 (None, 14, 14, 32)        0         \n",
      "_________________________________________________________________\n",
      "dropout_5 (Dropout)          (None, 14, 14, 32)        0         \n",
      "_________________________________________________________________\n",
      "conv2d_5 (Conv2D)            (None, 14, 14, 64)        18496     \n",
      "_________________________________________________________________\n",
      "max_pooling2d_5 (MaxPooling2 (None, 7, 7, 64)          0         \n",
      "_________________________________________________________________\n",
      "dropout_6 (Dropout)          (None, 7, 7, 64)          0         \n",
      "_________________________________________________________________\n",
      "conv2d_6 (Conv2D)            (None, 7, 7, 128)         73856     \n",
      "_________________________________________________________________\n",
      "max_pooling2d_6 (MaxPooling2 (None, 3, 3, 128)         0         \n",
      "_________________________________________________________________\n",
      "dropout_7 (Dropout)          (None, 3, 3, 128)         0         \n",
      "_________________________________________________________________\n",
      "flatten_2 (Flatten)          (None, 1152)              0         \n",
      "_________________________________________________________________\n",
      "dense_2 (Dense)              (None, 128)               147584    \n",
      "_________________________________________________________________\n",
      "dropout_8 (Dropout)          (None, 128)               0         \n",
      "_________________________________________________________________\n",
      "dense_3 (Dense)              (None, 10)                1290      \n",
      "=================================================================\n",
      "Total params: 241,546\n",
      "Trainable params: 241,546\n",
      "Non-trainable params: 0\n",
      "_________________________________________________________________\n"
     ]
    }
   ],
   "source": [
    "model.summary()"
   ]
  },
  {
   "cell_type": "code",
   "execution_count": 31,
   "metadata": {},
   "outputs": [],
   "source": [
    "# from keras.utils import plot_model\n",
    "# from IPython.display import SVG\n",
    "# from keras.utils import model_to_dot\n",
    "\n",
    "# plot_model(model, to_file='model.png',show_shapes=True)\n",
    "# SVG(model_to_dot(model).create(prog='dot', format='svg'))"
   ]
  },
  {
   "cell_type": "markdown",
   "metadata": {},
   "source": [
    "### e. Batch and Epoch Size"
   ]
  },
  {
   "cell_type": "code",
   "execution_count": 32,
   "metadata": {},
   "outputs": [],
   "source": [
    "# Batch her bir forward ve backward yaptıgımız işlem. Batch = 128 dersek bu durumda 128 örnegi aynı anda forward -backward yapacak. \n",
    "# Toplam training observation sayısı 48000 ise 48000/128 = 375. 1 epoch = 375 batchten olusur. \n",
    "# 20 * 375 = 7500 batch yapmıs olacagız bu durumda training için.\n",
    "\n",
    "batch_size = 128\n",
    "epochs = 20"
   ]
  },
  {
   "cell_type": "markdown",
   "metadata": {},
   "source": [
    "### f. Data Augmentation"
   ]
  },
  {
   "cell_type": "code",
   "execution_count": 33,
   "metadata": {},
   "outputs": [],
   "source": [
    "# Overfittingi engellemek için herbir image in degiştirerekte tanıtmak istiyoruz. Kücük degişikliklerle oginal image imize \n",
    "# benzeyen imageler geliştiriyorum.  (zooming, rotasyon degiştiriyoruz, farklı bir noktasına odaklanıyoruz vb.)\n",
    "\n",
    "\n",
    "datagen = ImageDataGenerator(\n",
    "        featurewise_center=False,  # set input mean to 0 over the dataset\n",
    "        samplewise_center=False,  # set each sample mean to 0\n",
    "        featurewise_std_normalization=False,  # divide inputs by std of the dataset\n",
    "        samplewise_std_normalization=False,  # divide each input by its std\n",
    "        zca_whitening=False,  # dimesion reduction\n",
    "        rotation_range=0.5,  # randomly rotate images in the range 5 degrees\n",
    "        zoom_range = 0.5, # Randomly zoom image 5%\n",
    "        width_shift_range=0.5,  # randomly shift images horizontally 5%\n",
    "        height_shift_range=0.5,  # randomly shift images vertically 5%\n",
    "        horizontal_flip=False,  # randomly flip images\n",
    "        vertical_flip=False)  # randomly flip images\n",
    "\n",
    "datagen.fit(X_train)"
   ]
  },
  {
   "cell_type": "markdown",
   "metadata": {},
   "source": [
    "### e. Fit the Model"
   ]
  },
  {
   "cell_type": "code",
   "execution_count": 112,
   "metadata": {},
   "outputs": [
    {
     "name": "stdout",
     "output_type": "stream",
     "text": [
      "Epoch 1/20\n",
      " - 149s - loss: 1.6332 - acc: 0.3765 - val_loss: 0.9181 - val_acc: 0.7019\n",
      "Epoch 2/20\n",
      " - 137s - loss: 1.2407 - acc: 0.5387 - val_loss: 0.7687 - val_acc: 0.7169\n",
      "Epoch 3/20\n",
      " - 137s - loss: 1.0972 - acc: 0.5907 - val_loss: 0.7021 - val_acc: 0.7239\n",
      "Epoch 4/20\n",
      " - 134s - loss: 1.0279 - acc: 0.6141 - val_loss: 0.6602 - val_acc: 0.7413\n",
      "Epoch 5/20\n",
      " - 128s - loss: 0.9895 - acc: 0.6301 - val_loss: 0.6249 - val_acc: 0.7593\n",
      "Epoch 6/20\n",
      " - 138s - loss: 0.9411 - acc: 0.6483 - val_loss: 0.5865 - val_acc: 0.7669\n",
      "Epoch 7/20\n",
      " - 131s - loss: 0.9198 - acc: 0.6534 - val_loss: 0.5774 - val_acc: 0.7613\n",
      "Epoch 8/20\n",
      " - 122s - loss: 0.8971 - acc: 0.6637 - val_loss: 0.5357 - val_acc: 0.7919\n",
      "Epoch 9/20\n",
      " - 119s - loss: 0.8774 - acc: 0.6713 - val_loss: 0.5699 - val_acc: 0.7809\n",
      "Epoch 10/20\n",
      " - 145s - loss: 0.8627 - acc: 0.6787 - val_loss: 0.5280 - val_acc: 0.8025\n",
      "Epoch 11/20\n",
      " - 145s - loss: 0.8543 - acc: 0.6830 - val_loss: 0.5616 - val_acc: 0.7853\n",
      "Epoch 12/20\n",
      " - 144s - loss: 0.8339 - acc: 0.6909 - val_loss: 0.5004 - val_acc: 0.8081\n",
      "Epoch 13/20\n",
      " - 159s - loss: 0.8263 - acc: 0.6946 - val_loss: 0.5240 - val_acc: 0.8045\n",
      "Epoch 14/20\n",
      " - 130s - loss: 0.8096 - acc: 0.6996 - val_loss: 0.5182 - val_acc: 0.8037\n",
      "Epoch 15/20\n",
      " - 119s - loss: 0.8031 - acc: 0.7045 - val_loss: 0.5021 - val_acc: 0.8114\n",
      "Epoch 16/20\n",
      " - 120s - loss: 0.7927 - acc: 0.7070 - val_loss: 0.4712 - val_acc: 0.8257\n",
      "Epoch 17/20\n",
      " - 119s - loss: 0.7847 - acc: 0.7097 - val_loss: 0.5036 - val_acc: 0.8072\n",
      "Epoch 18/20\n",
      " - 119s - loss: 0.7873 - acc: 0.7096 - val_loss: 0.5239 - val_acc: 0.7950\n",
      "Epoch 19/20\n",
      " - 122s - loss: 0.7715 - acc: 0.7152 - val_loss: 0.4880 - val_acc: 0.8122\n",
      "Epoch 20/20\n",
      " - 119s - loss: 0.7629 - acc: 0.7178 - val_loss: 0.4839 - val_acc: 0.8168\n"
     ]
    }
   ],
   "source": [
    "# Fit the model\n",
    "history = model.fit_generator(datagen.flow(X_train,y_train, batch_size=batch_size),\n",
    "                              epochs = epochs, \n",
    "                              validation_data = (X_val,y_val), \n",
    "                              verbose=2)"
   ]
  },
  {
   "cell_type": "markdown",
   "metadata": {},
   "source": [
    "# How could I increase the accuracy ?\n",
    "- Adjust data augmentation values \n",
    "- Increase the number of epoch \n",
    "- Add new hidden layers with Dense\n",
    "- Change filter size and kernel_size in Convolution step."
   ]
  },
  {
   "cell_type": "markdown",
   "metadata": {},
   "source": [
    "### f. Evaluation the Model\n",
    "\n",
    "- Test Loss visualization\n",
    "- Confusion matrix"
   ]
  },
  {
   "cell_type": "code",
   "execution_count": 114,
   "metadata": {},
   "outputs": [
    {
     "name": "stdout",
     "output_type": "stream",
     "text": [
      "12000/12000 [==============================] - 9s 718us/step\n",
      "Loss: 0.4839\n",
      "Accuracy: 0.8168\n"
     ]
    }
   ],
   "source": [
    "score = model.evaluate(X_val, y_val)\n",
    "\n",
    "print('Loss: {:.4f}'.format(score[0]))\n",
    "print('Accuracy: {:.4f}'.format(score[1]))"
   ]
  },
  {
   "cell_type": "code",
   "execution_count": 115,
   "metadata": {},
   "outputs": [
    {
     "data": {
      "image/png": "[encoded data removed]",
      "text/plain": [
       "<Figure size 432x288 with 1 Axes>"
      ]
     },
     "metadata": {},
     "output_type": "display_data"
    }
   ],
   "source": [
    "plt.plot(history.history['loss'])\n",
    "plt.plot(history.history['val_loss'])\n",
    "plt.title(\"Model Loss\")\n",
    "plt.xlabel('Epochs')\n",
    "plt.ylabel('Loss')\n",
    "plt.legend(['Train', 'Test'])\n",
    "plt.show()"
   ]
  },
  {
   "cell_type": "markdown",
   "metadata": {},
   "source": [
    "Test loss'muz 0.9181 dan baslayarak 0.4839 'a kadar azalıyor. Epoch sayısı arttıkca buda azalacagını görebiliyoruz."
   ]
  },
  {
   "cell_type": "code",
   "execution_count": 131,
   "metadata": {},
   "outputs": [
    {
     "data": {
      "image/png": "[encoded data removed]",
      "text/plain": [
       "<Figure size 648x648 with 2 Axes>"
      ]
     },
     "metadata": {},
     "output_type": "display_data"
    }
   ],
   "source": [
    "# Plot confusion matrix\n",
    "\n",
    "import math \n",
    "import itertools\n",
    "\n",
    "def plot_confusion_matrix(cm, classes,\n",
    "                          normalize=False,\n",
    "                          title='Confusion matrix',\n",
    "                          cmap=plt.cm.Blues):\n",
    "    \n",
    "    plt.figure(figsize=(9,9))\n",
    "    plt.imshow(cm, interpolation='nearest', cmap=cmap)\n",
    "    plt.title(title)\n",
    "    plt.colorbar()\n",
    "    tick_marks = np.arange(len(classes))\n",
    "    plt.xticks(tick_marks, classes, rotation=90)\n",
    "    plt.yticks(tick_marks, classes)\n",
    "\n",
    "    if normalize:\n",
    "        cm = cm.astype('float') / cm.sum(axis=1)[:, np.newaxis]\n",
    "\n",
    "    thresh = cm.max() / 2.\n",
    "    for i, j in itertools.product(range(cm.shape[0]), range(cm.shape[1])):\n",
    "        plt.text(j, i, cm[i, j],\n",
    "                 horizontalalignment=\"center\",\n",
    "                 color=\"white\" if cm[i, j] > thresh else \"black\")\n",
    "\n",
    "    plt.tight_layout()\n",
    "    plt.ylabel('True label')\n",
    "    plt.xlabel('Predicted label')\n",
    "    \n",
    "    \n",
    "\n",
    "# Predict the values from the validation dataset\n",
    "Y_pred = model.predict(X_val)\n",
    "# Convert predictions classes to one hot vectors \n",
    "Y_pred_classes = np.argmax(Y_pred,axis = 1) \n",
    "# Convert validation observations to one hot vectors\n",
    "Y_true = np.argmax(y_val,axis = 1) \n",
    "# compute the confusion matrix\n",
    "confusion_mtx = confusion_matrix(Y_true, Y_pred_classes) \n",
    "# plot the confusion matrix\n",
    "plot_confusion_matrix(confusion_mtx, \n",
    "            classes = ['T-shirt/Top','Trouser','Pullover','Dress','Coat','Sandal','Shirt','Sneaker','Bag','Ankle Boot'])"
   ]
  },
  {
   "cell_type": "markdown",
   "metadata": {},
   "source": [
    "Comments: Confusion matrix ile en cok hatanın Coat'a Shirt dediğimizi görebiliriz. Yine Shirt image'ini T-shirt, Pullover, Dress  ve Coat ile yanlıs tahmin etmiş.\n",
    "\n",
    "Shirt olan image'lerede yüksek oranda T-shirt ile hatalı classify ettigini görebiliriz. Pullover,da benzer sınıflandırma hataları mevcut.    "
   ]
  },
  {
   "cell_type": "markdown",
   "metadata": {},
   "source": [
    "### g. Classification Report"
   ]
  },
  {
   "cell_type": "markdown",
   "metadata": {},
   "source": [
    "The classification report visualizer displays the precision, recall, F1, and support scores for the model.\n",
    "\n",
    "- Precision:\n",
    "\n",
    "    Precision is the ability of a classiifer not to label an instance positive that is actually negative. Basically, it is defined as as the ratio of true positives to the sum of true and false positives. “For all instances classified positive, what percent was correct?”\n",
    "\n",
    "- Recall:\n",
    "\n",
    "    Recall is the ability of a classifier to find all positive instances. For each class it is defined as the ratio of true positives to the sum of true positives and false negatives. “For all instances that were actually positive, what percent was classified correctly?”\n",
    "\n",
    "- F1 Score:\n",
    "\n",
    "    The F1 score is a weighted harmonic mean of precision and recall such that the best score is 1.0 and the worst is 0.0 . Generally speaking, F1 scores are lower than accuracy measures as they embed precision and recall into their computation.\n",
    "\n",
    "- Support:\n",
    "\n",
    "    Support is the number of actual occurrences of the class in the specified dataset. Imbalanced support in the training data may indicate structural weaknesses in the reported scores of the classifier and could indicate the need for stratified sampling or rebalancing."
   ]
  },
  {
   "cell_type": "code",
   "execution_count": 133,
   "metadata": {},
   "outputs": [
    {
     "name": "stdout",
     "output_type": "stream",
     "text": [
      "              precision    recall  f1-score   support\n",
      "\n",
      " T-shirt/Top       0.67      0.85      0.75      1232\n",
      "     Trouser       1.00      0.94      0.97      1174\n",
      "    Pullover       0.85      0.74      0.79      1200\n",
      "       Dress       0.92      0.57      0.71      1242\n",
      "        Coat       0.59      0.72      0.65      1185\n",
      "      Sandal       0.95      0.96      0.96      1141\n",
      "       Shirt       0.51      0.54      0.52      1243\n",
      "     Sneaker       0.95      0.94      0.94      1224\n",
      "         Bag       0.94      0.98      0.96      1149\n",
      "  Ankle Boot       0.95      0.95      0.95      1210\n",
      "\n",
      "   micro avg       0.82      0.82      0.82     12000\n",
      "   macro avg       0.83      0.82      0.82     12000\n",
      "weighted avg       0.83      0.82      0.82     12000\n",
      "\n"
     ]
    }
   ],
   "source": [
    "classes = ['T-shirt/Top','Trouser','Pullover','Dress','Coat','Sandal','Shirt','Sneaker','Bag','Ankle Boot']\n",
    "print(classification_report(Y_true, Y_pred_classes, target_names = classes))"
   ]
  },
  {
   "cell_type": "markdown",
   "metadata": {},
   "source": [
    "Look at the Precision of the Shirts, we can see that our model predicted less than 80% of Shirts correctly out of the total images it predicted as Shirts. We did conclude the same from the confusion matrix, where we saw that a lot of T-shirts were misclassified as Shirts."
   ]
  },
  {
   "cell_type": "markdown",
   "metadata": {},
   "source": [
    "### h. Prediction on Test Data"
   ]
  },
  {
   "cell_type": "code",
   "execution_count": 154,
   "metadata": {},
   "outputs": [
    {
     "name": "stdout",
     "output_type": "stream",
     "text": [
      "10000/10000 [==============================] - 9s 943us/step\n",
      "Loss: 0.4634\n",
      "Accuracy: 0.8247\n"
     ]
    }
   ],
   "source": [
    "score = model.evaluate(test, y_test)\n",
    "\n",
    "print(\"Loss: {:.4f}\".format(score[0]))\n",
    "print(\"Accuracy: {:.4f}\".format(score[1]))"
   ]
  },
  {
   "cell_type": "code",
   "execution_count": null,
   "metadata": {},
   "outputs": [],
   "source": []
  },
  {
   "cell_type": "markdown",
   "metadata": {},
   "source": [
    "# Re-train the Model "
   ]
  },
  {
   "cell_type": "code",
   "execution_count": 22,
   "metadata": {},
   "outputs": [],
   "source": [
    "# Building a ConvNet\n",
    "model = Sequential()\n",
    "model.add(Conv2D(filters=32, kernel_size=(3, 3), activation='relu', strides=1, padding='same', \n",
    "                 data_format='channels_last', input_shape=(28,28,1)))\n",
    "model.add(BatchNormalization())\n",
    "\n",
    "model.add(Conv2D(filters=32, kernel_size=(3, 3), activation='relu', strides=1, padding='same', \n",
    "                 data_format='channels_last'))\n",
    "model.add(BatchNormalization())\n",
    "model.add(Dropout(0.25))\n",
    "\n",
    "model.add(Conv2D(filters=64, kernel_size=(3, 3), activation='relu', strides=1, padding='same', \n",
    "                 data_format='channels_last'))\n",
    "model.add(MaxPooling2D(pool_size=(2, 2)))\n",
    "model.add(Dropout(0.25))\n",
    "    \n",
    "    \n",
    "model.add(Conv2D(filters=128, kernel_size=(3, 3), activation='relu', strides=1, padding='same', \n",
    "                 data_format='channels_last'))\n",
    "model.add(BatchNormalization())\n",
    "model.add(Dropout(0.25))\n",
    "\n",
    "model.add(Flatten())\n",
    "model.add(Dense(512, activation='relu'))\n",
    "model.add(BatchNormalization())\n",
    "model.add(Dropout(0.5))\n",
    "model.add(Dense(128, activation='relu'))\n",
    "model.add(BatchNormalization())\n",
    "model.add(Dropout(0.5))\n",
    "model.add(Dense(10, activation='softmax'))"
   ]
  },
  {
   "cell_type": "code",
   "execution_count": 23,
   "metadata": {},
   "outputs": [],
   "source": [
    "# Optimizer\n",
    "optimizer = Adam(lr=0.001, beta_1=0.9, beta_2=0.999)"
   ]
  },
  {
   "cell_type": "code",
   "execution_count": 24,
   "metadata": {},
   "outputs": [],
   "source": [
    "# Compiling the model\n",
    "model.compile(optimizer=optimizer, loss=\"categorical_crossentropy\", metrics=[\"accuracy\"])"
   ]
  },
  {
   "cell_type": "code",
   "execution_count": 25,
   "metadata": {},
   "outputs": [],
   "source": [
    "# Augmentation\n",
    "datagen = ImageDataGenerator(\n",
    "        rotation_range = 4,  # randomly rotate images in the range (degrees, 0 to 180)\n",
    "        zoom_range = 0.1, # Randomly zoom image \n",
    "        shear_range = 0.3,# shear angle in counter-clockwise direction in degrees  \n",
    "        width_shift_range=0.08,  # randomly shift images horizontally (fraction of total width)\n",
    "        height_shift_range=0.08,  # randomly shift images vertically (fraction of total height)\n",
    "        vertical_flip=True)  # randomly flip images\n",
    "\n",
    "datagen.fit(X_train)"
   ]
  },
  {
   "cell_type": "code",
   "execution_count": null,
   "metadata": {},
   "outputs": [
    {
     "name": "stdout",
     "output_type": "stream",
     "text": [
      "WARNING:tensorflow:From C:\\ProgramData\\Anaconda3\\lib\\site-packages\\tensorflow\\python\\ops\\math_ops.py:3066: to_int32 (from tensorflow.python.ops.math_ops) is deprecated and will be removed in a future version.\n",
      "Instructions for updating:\n",
      "Use tf.cast instead.\n",
      "Epoch 1/40\n",
      " - 1104s - loss: 0.8387 - acc: 0.7006 - val_loss: 0.5436 - val_acc: 0.7865\n",
      "Epoch 2/40\n",
      " - 3819s - loss: 0.5538 - acc: 0.7967 - val_loss: 0.3946 - val_acc: 0.8535\n",
      "Epoch 3/40\n",
      " - 1123s - loss: 0.4732 - acc: 0.8286 - val_loss: 0.3532 - val_acc: 0.8697\n",
      "Epoch 4/40\n",
      " - 4128s - loss: 0.4310 - acc: 0.8461 - val_loss: 0.3230 - val_acc: 0.8760\n",
      "Epoch 5/40\n",
      " - 1089s - loss: 0.4056 - acc: 0.8540 - val_loss: 0.3063 - val_acc: 0.8884\n",
      "Epoch 6/40\n",
      " - 1149s - loss: 0.3844 - acc: 0.8633 - val_loss: 0.2766 - val_acc: 0.8965\n",
      "Epoch 7/40\n",
      " - 1221s - loss: 0.3733 - acc: 0.8655 - val_loss: 0.2922 - val_acc: 0.8891\n",
      "Epoch 8/40\n",
      " - 1203s - loss: 0.3577 - acc: 0.8706 - val_loss: 0.2754 - val_acc: 0.8950\n",
      "Epoch 9/40\n",
      " - 1399s - loss: 0.3460 - acc: 0.8753 - val_loss: 0.2777 - val_acc: 0.8939\n",
      "Epoch 10/40\n",
      " - 1151s - loss: 0.3399 - acc: 0.8779 - val_loss: 0.2499 - val_acc: 0.9068\n",
      "Epoch 11/40\n",
      " - 1109s - loss: 0.3303 - acc: 0.8822 - val_loss: 0.2375 - val_acc: 0.9127\n",
      "Epoch 12/40\n",
      " - 30414s - loss: 0.3217 - acc: 0.8836 - val_loss: 0.2464 - val_acc: 0.9073\n",
      "Epoch 13/40\n",
      " - 1135s - loss: 0.3161 - acc: 0.8865 - val_loss: 0.2595 - val_acc: 0.8964\n",
      "Epoch 14/40\n",
      " - 1115s - loss: 0.3110 - acc: 0.8886 - val_loss: 0.2211 - val_acc: 0.9193\n",
      "Epoch 15/40\n"
     ]
    }
   ],
   "source": [
    "# Fitting the Model\n",
    "batch_size = 128\n",
    "epochs = 40\n",
    "\n",
    "\n",
    "# Fit the model\n",
    "train_model = model.fit_generator(datagen.flow(X_train,y_train, batch_size=batch_size),\n",
    "                              epochs = epochs, \n",
    "                              validation_data = (X_val,y_val), \n",
    "                              verbose=2)"
   ]
  },
  {
   "cell_type": "code",
   "execution_count": null,
   "metadata": {},
   "outputs": [],
   "source": [
    "# Evaluation the Results\n",
    "score = train_model.evaluate(X_val, y_val)\n",
    "\n",
    "print('Loss: {:.4f}'.format(score[0]))\n",
    "print('Accuracy: {:.4f}'.format(score[1]))"
   ]
  },
  {
   "cell_type": "code",
   "execution_count": null,
   "metadata": {},
   "outputs": [],
   "source": [
    "def create_trace(x,y,ylabel,color):\n",
    "        trace = go.Scatter(\n",
    "            x = x,y = y,\n",
    "            name=ylabel,\n",
    "            marker=dict(color=color),\n",
    "            mode = \"markers+lines\",\n",
    "            text=x\n",
    "        )\n",
    "        return trace\n",
    "    \n",
    "def plot_accuracy_and_loss(train_model):\n",
    "    hist = train_model.history\n",
    "    acc = hist['acc']\n",
    "    val_acc = hist['val_acc']\n",
    "    loss = hist['loss']\n",
    "    val_loss = hist['val_loss']\n",
    "    epochs = list(range(1,len(acc)+1))\n",
    "    \n",
    "    trace_ta = create_trace(epochs,acc,\"Training accuracy\", \"Green\")\n",
    "    trace_va = create_trace(epochs,val_acc,\"Validation accuracy\", \"Red\")\n",
    "    trace_tl = create_trace(epochs,loss,\"Training loss\", \"Blue\")\n",
    "    trace_vl = create_trace(epochs,val_loss,\"Validation loss\", \"Magenta\")\n",
    "   \n",
    "    fig = tools.make_subplots(rows=1,cols=2, subplot_titles=('Training and validation accuracy',\n",
    "                                                             'Training and validation loss'))\n",
    "    fig.append_trace(trace_ta,1,1)\n",
    "    fig.append_trace(trace_va,1,1)\n",
    "    fig.append_trace(trace_tl,1,2)\n",
    "    fig.append_trace(trace_vl,1,2)\n",
    "    fig['layout']['xaxis'].update(title = 'Epoch')\n",
    "    fig['layout']['xaxis2'].update(title = 'Epoch')\n",
    "    fig['layout']['yaxis'].update(title = 'Accuracy', range=[0,1])\n",
    "    fig['layout']['yaxis2'].update(title = 'Loss', range=[0,1])\n",
    "\n",
    "    \n",
    "    iplot(fig, filename='accuracy-loss')\n",
    "\n",
    "plot_accuracy_and_loss(train_model)"
   ]
  },
  {
   "cell_type": "code",
   "execution_count": null,
   "metadata": {},
   "outputs": [],
   "source": []
  },
  {
   "cell_type": "code",
   "execution_count": null,
   "metadata": {},
   "outputs": [],
   "source": []
  },
  {
   "cell_type": "code",
   "execution_count": null,
   "metadata": {},
   "outputs": [],
   "source": []
  }
 ],
 "metadata": {
  "kernelspec": {
   "display_name": "Python 3",
   "language": "python",
   "name": "python3"
  },
  "language_info": {
   "codemirror_mode": {
    "name": "ipython",
    "version": 3
   },
   "file_extension": ".py",
   "mimetype": "text/x-python",
   "name": "python",
   "nbconvert_exporter": "python",
   "pygments_lexer": "ipython3",
   "version": "3.7.1"
  }
 },
 "nbformat": 4,
 "nbformat_minor": 2
}
