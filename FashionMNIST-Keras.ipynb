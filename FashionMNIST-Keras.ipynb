{
 "cells": [
  {
   "cell_type": "markdown",
   "metadata": {},
   "source": [
    "# Fashion-MNIST with Keras - - - Serap Aydogdu \n"
   ]
  },
  {
   "cell_type": "markdown",
   "metadata": {},
   "source": [
    "# 1. Analyzing Data<br/>\n",
    "* **Import Libraries** <br/><br/>\n",
    "* **Read Data** <br/><br/>\n",
    "* **Explore Data** <br/><br/>\n",
    "* **Visualize Data** <br/><br/>"
   ]
  },
  {
   "cell_type": "markdown",
   "metadata": {},
   "source": [
    "### a. Import Libraries"
   ]
  },
  {
   "cell_type": "code",
   "execution_count": 37,
   "metadata": {},
   "outputs": [],
   "source": [
    "# Ignore warnings :\n",
    "import warnings\n",
    "warnings.filterwarnings('ignore')\n",
    "\n",
    "# Handle table-like data and matrices :\n",
    "from keras.utils import to_categorical\n",
    "import numpy as np\n",
    "import pandas as pd\n",
    "\n",
    "# Preprocessing :\n",
    "from sklearn.preprocessing import MinMaxScaler , StandardScaler, Imputer, LabelEncoder\n",
    "from sklearn import preprocessing\n",
    "\n",
    "# Regression\n",
    "from sklearn.metrics import mean_squared_log_error,mean_squared_error, r2_score,mean_absolute_error \n",
    "\n",
    "# Classification\n",
    "from sklearn.metrics import accuracy_score,precision_score,recall_score,f1_score  \n",
    "\n",
    "# Modelling Helpers :\n",
    "from sklearn.preprocessing import Imputer , Normalizer , scale\n",
    "from sklearn.model_selection import train_test_split\n",
    "from sklearn.metrics import confusion_matrix, classification_report\n",
    "from sklearn.feature_selection import RFECV\n",
    "from sklearn.model_selection import GridSearchCV , KFold , cross_val_score\n",
    "\n",
    "# Deep Learning Libraries\n",
    "from keras.models import Sequential, load_model  # Sequencial ile weigthleri initialize ediyoruz.\n",
    "from keras.layers import Dense, Dropout, Flatten  # Dense ile layerlarımızı construct ediyoruz.\n",
    "from keras.layers import Conv2D, MaxPooling2D, BatchNormalization\n",
    "from keras.optimizers import Adam,SGD,Adagrad,Adadelta,RMSprop\n",
    "from keras.preprocessing.image import ImageDataGenerator\n",
    "from keras.callbacks import ReduceLROnPlateau, LearningRateScheduler\n",
    "from keras.utils import to_categorical\n",
    "\n",
    "# Visualisation\n",
    "import matplotlib as mpl\n",
    "from matplotlib.pyplot import figure\n",
    "import matplotlib.pyplot as plt\n",
    "import matplotlib.pylab as pylab\n",
    "import seaborn as sns\n",
    "import missingno as msno\n",
    "\n",
    "# Configure visualisations\n",
    "%matplotlib inline\n",
    "mpl.style.use( 'ggplot' )\n",
    "plt.style.use('fivethirtyeight')\n",
    "sns.set(context=\"notebook\", palette=\"dark\", style = 'whitegrid' , color_codes=True)"
   ]
  },
  {
   "cell_type": "markdown",
   "metadata": {},
   "source": [
    "### b. Read Data"
   ]
  },
  {
   "cell_type": "code",
   "execution_count": 38,
   "metadata": {},
   "outputs": [],
   "source": [
    "data_train = pd.read_csv('fashion-mnist_train.csv')\n",
    "data_test = pd.read_csv('fashion-mnist_test.csv')\n",
    "\n",
    "df_train = data_train.copy()\n",
    "df_test = data_test.copy()"
   ]
  },
  {
   "cell_type": "code",
   "execution_count": 39,
   "metadata": {},
   "outputs": [
    {
     "data": {
      "text/html": [
       "<div>\n",
       "<style scoped>\n",
       "    .dataframe tbody tr th:only-of-type {\n",
       "        vertical-align: middle;\n",
       "    }\n",
       "\n",
       "    .dataframe tbody tr th {\n",
       "        vertical-align: top;\n",
       "    }\n",
       "\n",
       "    .dataframe thead th {\n",
       "        text-align: right;\n",
       "    }\n",
       "</style>\n",
       "<table border=\"1\" class=\"dataframe\">\n",
       "  <thead>\n",
       "    <tr style=\"text-align: right;\">\n",
       "      <th></th>\n",
       "      <th>label</th>\n",
       "      <th>pixel1</th>\n",
       "      <th>pixel2</th>\n",
       "      <th>pixel3</th>\n",
       "      <th>pixel4</th>\n",
       "      <th>pixel5</th>\n",
       "      <th>pixel6</th>\n",
       "      <th>pixel7</th>\n",
       "      <th>pixel8</th>\n",
       "      <th>pixel9</th>\n",
       "      <th>...</th>\n",
       "      <th>pixel775</th>\n",
       "      <th>pixel776</th>\n",
       "      <th>pixel777</th>\n",
       "      <th>pixel778</th>\n",
       "      <th>pixel779</th>\n",
       "      <th>pixel780</th>\n",
       "      <th>pixel781</th>\n",
       "      <th>pixel782</th>\n",
       "      <th>pixel783</th>\n",
       "      <th>pixel784</th>\n",
       "    </tr>\n",
       "  </thead>\n",
       "  <tbody>\n",
       "    <tr>\n",
       "      <th>0</th>\n",
       "      <td>2</td>\n",
       "      <td>0</td>\n",
       "      <td>0</td>\n",
       "      <td>0</td>\n",
       "      <td>0</td>\n",
       "      <td>0</td>\n",
       "      <td>0</td>\n",
       "      <td>0</td>\n",
       "      <td>0</td>\n",
       "      <td>0</td>\n",
       "      <td>...</td>\n",
       "      <td>0</td>\n",
       "      <td>0</td>\n",
       "      <td>0</td>\n",
       "      <td>0</td>\n",
       "      <td>0</td>\n",
       "      <td>0</td>\n",
       "      <td>0</td>\n",
       "      <td>0</td>\n",
       "      <td>0</td>\n",
       "      <td>0</td>\n",
       "    </tr>\n",
       "    <tr>\n",
       "      <th>1</th>\n",
       "      <td>9</td>\n",
       "      <td>0</td>\n",
       "      <td>0</td>\n",
       "      <td>0</td>\n",
       "      <td>0</td>\n",
       "      <td>0</td>\n",
       "      <td>0</td>\n",
       "      <td>0</td>\n",
       "      <td>0</td>\n",
       "      <td>0</td>\n",
       "      <td>...</td>\n",
       "      <td>0</td>\n",
       "      <td>0</td>\n",
       "      <td>0</td>\n",
       "      <td>0</td>\n",
       "      <td>0</td>\n",
       "      <td>0</td>\n",
       "      <td>0</td>\n",
       "      <td>0</td>\n",
       "      <td>0</td>\n",
       "      <td>0</td>\n",
       "    </tr>\n",
       "    <tr>\n",
       "      <th>2</th>\n",
       "      <td>6</td>\n",
       "      <td>0</td>\n",
       "      <td>0</td>\n",
       "      <td>0</td>\n",
       "      <td>0</td>\n",
       "      <td>0</td>\n",
       "      <td>0</td>\n",
       "      <td>0</td>\n",
       "      <td>5</td>\n",
       "      <td>0</td>\n",
       "      <td>...</td>\n",
       "      <td>0</td>\n",
       "      <td>0</td>\n",
       "      <td>0</td>\n",
       "      <td>30</td>\n",
       "      <td>43</td>\n",
       "      <td>0</td>\n",
       "      <td>0</td>\n",
       "      <td>0</td>\n",
       "      <td>0</td>\n",
       "      <td>0</td>\n",
       "    </tr>\n",
       "    <tr>\n",
       "      <th>3</th>\n",
       "      <td>0</td>\n",
       "      <td>0</td>\n",
       "      <td>0</td>\n",
       "      <td>0</td>\n",
       "      <td>1</td>\n",
       "      <td>2</td>\n",
       "      <td>0</td>\n",
       "      <td>0</td>\n",
       "      <td>0</td>\n",
       "      <td>0</td>\n",
       "      <td>...</td>\n",
       "      <td>3</td>\n",
       "      <td>0</td>\n",
       "      <td>0</td>\n",
       "      <td>0</td>\n",
       "      <td>0</td>\n",
       "      <td>1</td>\n",
       "      <td>0</td>\n",
       "      <td>0</td>\n",
       "      <td>0</td>\n",
       "      <td>0</td>\n",
       "    </tr>\n",
       "    <tr>\n",
       "      <th>4</th>\n",
       "      <td>3</td>\n",
       "      <td>0</td>\n",
       "      <td>0</td>\n",
       "      <td>0</td>\n",
       "      <td>0</td>\n",
       "      <td>0</td>\n",
       "      <td>0</td>\n",
       "      <td>0</td>\n",
       "      <td>0</td>\n",
       "      <td>0</td>\n",
       "      <td>...</td>\n",
       "      <td>0</td>\n",
       "      <td>0</td>\n",
       "      <td>0</td>\n",
       "      <td>0</td>\n",
       "      <td>0</td>\n",
       "      <td>0</td>\n",
       "      <td>0</td>\n",
       "      <td>0</td>\n",
       "      <td>0</td>\n",
       "      <td>0</td>\n",
       "    </tr>\n",
       "  </tbody>\n",
       "</table>\n",
       "<p>5 rows × 785 columns</p>\n",
       "</div>"
      ],
      "text/plain": [
       "   label  pixel1  pixel2  pixel3  pixel4  pixel5  pixel6  pixel7  pixel8  \\\n",
       "0      2       0       0       0       0       0       0       0       0   \n",
       "1      9       0       0       0       0       0       0       0       0   \n",
       "2      6       0       0       0       0       0       0       0       5   \n",
       "3      0       0       0       0       1       2       0       0       0   \n",
       "4      3       0       0       0       0       0       0       0       0   \n",
       "\n",
       "   pixel9    ...     pixel775  pixel776  pixel777  pixel778  pixel779  \\\n",
       "0       0    ...            0         0         0         0         0   \n",
       "1       0    ...            0         0         0         0         0   \n",
       "2       0    ...            0         0         0        30        43   \n",
       "3       0    ...            3         0         0         0         0   \n",
       "4       0    ...            0         0         0         0         0   \n",
       "\n",
       "   pixel780  pixel781  pixel782  pixel783  pixel784  \n",
       "0         0         0         0         0         0  \n",
       "1         0         0         0         0         0  \n",
       "2         0         0         0         0         0  \n",
       "3         1         0         0         0         0  \n",
       "4         0         0         0         0         0  \n",
       "\n",
       "[5 rows x 785 columns]"
      ]
     },
     "execution_count": 39,
     "metadata": {},
     "output_type": "execute_result"
    }
   ],
   "source": [
    "df_train.head()"
   ]
  },
  {
   "cell_type": "code",
   "execution_count": 40,
   "metadata": {},
   "outputs": [
    {
     "data": {
      "image/png": "[encoded data removed]",
      "text/plain": [
       "<Figure size 432x288 with 1 Axes>"
      ]
     },
     "metadata": {},
     "output_type": "display_data"
    }
   ],
   "source": [
    "img = df_train.drop('label', axis=1).iloc[2].as_matrix()\n",
    "img = img.reshape(28,28)\n",
    "plt.imshow(img,cmap=\"gray\")\n",
    "plt.title(df_train.iloc[2,0])\n",
    "plt.axis(\"off\")\n",
    "plt.show()"
   ]
  },
  {
   "cell_type": "markdown",
   "metadata": {},
   "source": [
    "### c. Explore Data"
   ]
  },
  {
   "cell_type": "code",
   "execution_count": 41,
   "metadata": {},
   "outputs": [
    {
     "name": "stdout",
     "output_type": "stream",
     "text": [
      "Train:  (60000, 785)\n",
      "Test:  (10000, 785)\n"
     ]
    }
   ],
   "source": [
    "print('Train: ', df_train.shape)\n",
    "print('Test: ', df_test.shape)"
   ]
  },
  {
   "cell_type": "markdown",
   "metadata": {},
   "source": [
    "- **So, there are 60,000 Training Samples and 10,000 Test Samples.**\n",
    "- **Each example is a 28x28 grayscale image, associated with a label from 10 classes.**\n",
    "        - Each pixel has a single pixel-value associated with it, indicating the lightness or    darkness of that pixel, \n",
    "        - with higher numbers meaning darker.\n",
    "        - This pixel-value is an integer between 0 and 255, inclusive.\n",
    "\n",
    "- **The first column of the Training Samples consists of Class Labels and represents the article of Clothing.**"
   ]
  },
  {
   "cell_type": "code",
   "execution_count": 42,
   "metadata": {},
   "outputs": [
    {
     "data": {
      "text/plain": [
       "array([2, 9, 6, 0, 3, 4, 5, 8, 7, 1], dtype=int64)"
      ]
     },
     "execution_count": 42,
     "metadata": {},
     "output_type": "execute_result"
    }
   ],
   "source": [
    "df_train[\"label\"].unique()"
   ]
  },
  {
   "cell_type": "markdown",
   "metadata": {},
   "source": [
    "**Labels :**\n",
    "\n",
    "0 - T-shirt/top <br/>\n",
    "1 - Trouser <br/>\n",
    "2 - Pullover <br/>\n",
    "3 - Dress <br/>\n",
    "4 - Coat <br/>\n",
    "5 - Sandals <br/>\n",
    "6 - Shirt <br/>\n",
    "7 - Sneaker <br/>\n",
    "8 - Bag <br/>\n",
    "9 - Ankle Boots <br/>"
   ]
  },
  {
   "cell_type": "code",
   "execution_count": 43,
   "metadata": {},
   "outputs": [
    {
     "data": {
      "text/plain": [
       "9    6000\n",
       "8    6000\n",
       "7    6000\n",
       "6    6000\n",
       "5    6000\n",
       "4    6000\n",
       "3    6000\n",
       "2    6000\n",
       "1    6000\n",
       "0    6000\n",
       "Name: label, dtype: int64"
      ]
     },
     "execution_count": 43,
     "metadata": {},
     "output_type": "execute_result"
    }
   ],
   "source": [
    "## Distribution of Labels\n",
    "df_train[\"label\"].value_counts()"
   ]
  },
  {
   "cell_type": "code",
   "execution_count": 44,
   "metadata": {},
   "outputs": [
    {
     "data": {
      "text/plain": [
       "7    1000\n",
       "6    1000\n",
       "5    1000\n",
       "4    1000\n",
       "3    1000\n",
       "2    1000\n",
       "9    1000\n",
       "1    1000\n",
       "8    1000\n",
       "0    1000\n",
       "Name: label, dtype: int64"
      ]
     },
     "execution_count": 44,
     "metadata": {},
     "output_type": "execute_result"
    }
   ],
   "source": [
    "## Distribution of Labels\n",
    "df_test[\"label\"].value_counts()"
   ]
  },
  {
   "cell_type": "markdown",
   "metadata": {},
   "source": [
    "Each class distributed equally"
   ]
  },
  {
   "cell_type": "code",
   "execution_count": 45,
   "metadata": {},
   "outputs": [
    {
     "name": "stdout",
     "output_type": "stream",
     "text": [
      "False\n",
      "False\n"
     ]
    }
   ],
   "source": [
    "# Is there any null values or not ?\n",
    "print(df_train.isnull().values.any())\n",
    "print(df_test.isnull().values.any())"
   ]
  },
  {
   "cell_type": "markdown",
   "metadata": {},
   "source": [
    "There is no any null values"
   ]
  },
  {
   "cell_type": "markdown",
   "metadata": {},
   "source": [
    "### d. Visualize Data"
   ]
  },
  {
   "cell_type": "code",
   "execution_count": 46,
   "metadata": {},
   "outputs": [
    {
     "data": {
      "image/png": "[encoded data removed]",
      "text/plain": [
       "<Figure size 576x576 with 25 Axes>"
      ]
     },
     "metadata": {},
     "output_type": "display_data"
    }
   ],
   "source": [
    "# Mapping Classes\n",
    "clothing = {0 : 'T-shirt/top',\n",
    "            1 : 'Trouser',\n",
    "            2 : 'Pullover',\n",
    "            3 : 'Dress',\n",
    "            4 : 'Coat',\n",
    "            5 : 'Sandal',\n",
    "            6 : 'Shirt',\n",
    "            7 : 'Sneaker',\n",
    "            8 : 'Bag',\n",
    "            9 : 'Ankle boot'}\n",
    "\n",
    "\n",
    "fig, axes = plt.subplots(5, 5, figsize = (8,8))\n",
    "for row in axes:\n",
    "    for axe in row:\n",
    "        index = np.random.randint(60000)\n",
    "        img = df_train.drop('label', axis=1).values[index].reshape(28,28)\n",
    "        cloths = df_train['label'][index]\n",
    "        axe.imshow(img, cmap='gray')\n",
    "        axe.set_title(clothing[cloths])\n",
    "        axe.set_axis_off()\n"
   ]
  },
  {
   "cell_type": "markdown",
   "metadata": {},
   "source": [
    "# 2. Data Preparation\n",
    "\n",
    "* **Normalization**\n",
    "    * Normalization makes training less sensitive to the scale of features, so we can better solve for coefficients and weights.\n",
    "    * If we perform normalization, CNN works faster.\n",
    "    * They need to be scaled down to [0,1] in order for Optimization Algorithms to work much faster. Here, we acheive Zero Mean       and Unit Variance. <br/><br/>\n",
    "\n",
    "* **Reshape**\n",
    "    * Train and test images (28 x 28)\n",
    "    * We reshape all data to 28x28x1 3D matrices.\n",
    "    * Keras needs an extra dimension in the end which correspond to channels. Our images are gray scaled so it use only one channel. <br/><br/>\n",
    "    \n",
    "* **Label Encoding**\n",
    "    * Encode labels to one hot vectors\n",
    "        * 2 => [0,0,1,0,0,0,0,0,0,0]\n",
    "        * 4 => [0,0,0,0,1,0,0,0,0,0]\n",
    "        \n",
    "* **Train-Validation**\n",
    "    * We split train data as train and validation data set before testing the result of training with test data."
   ]
  },
  {
   "cell_type": "markdown",
   "metadata": {},
   "source": [
    "### a. Normalization, Reshaping and Label Encoding"
   ]
  },
  {
   "cell_type": "code",
   "execution_count": 47,
   "metadata": {},
   "outputs": [],
   "source": [
    "# put labels into y_train variable\n",
    "y_train = df_train[\"label\"]\n",
    "X_train = df_train.drop(labels = [\"label\"],axis = 1) \n",
    "\n",
    "# put labels into y_test variable\n",
    "y_test = df_test[\"label\"]\n",
    "X_test = df_test.drop(labels = [\"label\"],axis = 1) "
   ]
  },
  {
   "cell_type": "code",
   "execution_count": 48,
   "metadata": {},
   "outputs": [
    {
     "data": {
      "text/plain": [
       "(60000,)"
      ]
     },
     "execution_count": 48,
     "metadata": {},
     "output_type": "execute_result"
    }
   ],
   "source": [
    "y_train.shape"
   ]
  },
  {
   "cell_type": "code",
   "execution_count": 49,
   "metadata": {},
   "outputs": [
    {
     "data": {
      "text/plain": [
       "(10000,)"
      ]
     },
     "execution_count": 49,
     "metadata": {},
     "output_type": "execute_result"
    }
   ],
   "source": [
    "y_test.shape"
   ]
  },
  {
   "cell_type": "code",
   "execution_count": 50,
   "metadata": {},
   "outputs": [
    {
     "name": "stdout",
     "output_type": "stream",
     "text": [
      "x_train shape:  (60000, 784)\n",
      "X_test shape:  (10000, 784)\n"
     ]
    }
   ],
   "source": [
    "# Normalize the data\n",
    "X_train = X_train / 255.0\n",
    "X_test = X_test / 255.0\n",
    "print(\"x_train shape: \",X_train.shape)\n",
    "print(\"X_test shape: \",X_test.shape)"
   ]
  },
  {
   "cell_type": "code",
   "execution_count": 51,
   "metadata": {},
   "outputs": [
    {
     "name": "stdout",
     "output_type": "stream",
     "text": [
      "x_train shape:  (60000, 28, 28, 1)\n",
      "test shape:  (10000, 28, 28, 1)\n"
     ]
    }
   ],
   "source": [
    "# Reshape\n",
    "X_train = X_train.values.reshape(-1,28,28,1)\n",
    "test = X_test.values.reshape(-1,28,28,1)\n",
    "print(\"x_train shape: \",X_train.shape)\n",
    "print(\"test shape: \",test.shape)"
   ]
  },
  {
   "cell_type": "code",
   "execution_count": 52,
   "metadata": {},
   "outputs": [],
   "source": [
    "# Label Encoding (one-hot-encoding)\n",
    "from keras.utils.np_utils import to_categorical \n",
    "y_train = to_categorical(y_train, num_classes = 10)\n",
    "y_test = to_categorical(y_test, num_classes = 10)"
   ]
  },
  {
   "cell_type": "code",
   "execution_count": 53,
   "metadata": {},
   "outputs": [
    {
     "data": {
      "text/plain": [
       "(10000, 10)"
      ]
     },
     "execution_count": 53,
     "metadata": {},
     "output_type": "execute_result"
    }
   ],
   "source": [
    "y_test.shape"
   ]
  },
  {
   "cell_type": "markdown",
   "metadata": {},
   "source": [
    "### b. Train - Validation Split"
   ]
  },
  {
   "cell_type": "code",
   "execution_count": 54,
   "metadata": {},
   "outputs": [
    {
     "name": "stdout",
     "output_type": "stream",
     "text": [
      "X_train shape (48000, 28, 28, 1)\n",
      "X_val shape (12000, 28, 28, 1)\n",
      "y_train shape (48000, 10)\n",
      "y_val shape (12000, 10)\n"
     ]
    }
   ],
   "source": [
    "# Split the train and the validation set for the fitting\n",
    "from sklearn.model_selection import train_test_split\n",
    "X_train, X_val, y_train, y_val = train_test_split(X_train, y_train, test_size = 0.2, random_state=42)\n",
    "print(\"X_train shape\",X_train.shape)\n",
    "print(\"X_val shape\",X_val.shape)\n",
    "print(\"y_train shape\",y_train.shape)\n",
    "print(\"y_val shape\",y_val.shape)"
   ]
  },
  {
   "cell_type": "markdown",
   "metadata": {},
   "source": [
    "# 3. Implementing with Keras\n",
    "Convolutional Neural Network (CNN) is used for image classification, object detection. \n",
    "\n",
    "The main structural feature of CNN is that all the neurons are connected to each other. So, When it comes to images, there seems to be little correlation or relation between two individual pixels unless they are close to each other. This leads to the idea of Convolutional Layers and Pooling Layers."
   ]
  },
  {
   "cell_type": "markdown",
   "metadata": {},
   "source": [
    "### a. Create Model\n",
    "* conv => max pool => dropout => conv => max pool => dropout=> conv => max pool => dropout => fully connected (2 layer)\n",
    "* Dropout: Dropout is a technique where randomly selected neurons are ignored during training for preventting to overfitting. The remaining Neurons learn more features and this reduces the dependency on any one Neuron."
   ]
  },
  {
   "cell_type": "code",
   "execution_count": 55,
   "metadata": {},
   "outputs": [],
   "source": [
    "import keras\n",
    "from keras.models import Sequential\n",
    "from keras.layers import Dense, Dropout, Flatten\n",
    "from keras.layers import Conv2D, MaxPooling2D\n",
    "from keras.layers.normalization import BatchNormalization"
   ]
  },
  {
   "cell_type": "code",
   "execution_count": 56,
   "metadata": {},
   "outputs": [],
   "source": [
    "# initial neural network structure. Sequential is a structure that will added layers after.\n",
    "model = Sequential() \n",
    "# Bu NN yapısına layerlarımızı eklememiz gerekiyor.\n",
    "num_classes = 10\n",
    "# Convolution layer\n",
    "# Pooling layer\n",
    "# Flatten layer\n",
    "# Neural Network hidden layers\n",
    "\n",
    "\n",
    "# Öncelikle bir convolution operasyonu için layer olusturualım. Buna 8 tane feature detect eden filtre uygulayalım.\n",
    "# same padding uyguluyoruz böylece input matristen önemli verileri kaybetmeyeden aynı size convolution matrisler olusmus olacak.\n",
    "# activation: relu fonksiyonu. activasyon fonksiyonum : relu olsun. Relu outputu 0 dan kücükse 0 büyükse o degeri alsın diyoruz. (0,z) arasında range eder. Oldukca güclü bir aktivasyon fonksiyonudur sigmoid ve tanh göre.\n",
    "# kernel_initializer ise weight ve bias için initial degerleri belirledigimiz parametre buda normal dagılan rastgele degerleri içersin baslangıcta.\n",
    "model.add(Conv2D(32, kernel_size=(3, 3),\n",
    "                 padding = 'Same',                  \n",
    "                 activation='relu',\n",
    "                 kernel_initializer='he_normal',\n",
    "                 input_shape=(28,28,1)))\n",
    "# (2*2) lik bir matris ile sub sampling yapıyor. Detaylardan cıakrak genelleştirme yapıyor. Overfit engellemek için bu adım.\n",
    "model.add(MaxPooling2D(pool_size=(2, 2)))\n",
    "# 4 te 1 hidden unitleri kapatıyorum. Buda overfit engellemek için.\n",
    "model.add(Dropout(0.25))\n",
    "\n",
    "model.add(Conv2D(64, (3, 3), activation='relu', padding = 'Same'))\n",
    "model.add(MaxPooling2D(pool_size=(2, 2)))\n",
    "model.add(Dropout(0.25))\n",
    "model.add(Conv2D(128, (3, 3), activation='relu', padding = 'Same'))\n",
    "model.add(MaxPooling2D(pool_size=(2, 2)))\n",
    "model.add(Dropout(0.4))\n",
    "# fully connected\n",
    "model.add(Flatten())\n",
    "# Bir hidden layer ekliyorum. \n",
    "model.add(Dense(128, activation='relu')) \n",
    "model.add(Dropout(0.3))\n",
    "# Bir de output layer ekliyorum. softmax, multi classlar için kullanılıyor.\n",
    "model.add(Dense(num_classes, activation='softmax'))\n"
   ]
  },
  {
   "cell_type": "markdown",
   "metadata": {},
   "source": [
    "### b. Define Optimizer"
   ]
  },
  {
   "cell_type": "code",
   "execution_count": 57,
   "metadata": {},
   "outputs": [],
   "source": [
    "# Optimizer ise backward propagation için kullanacagım method. Adam optimizer en etkili optimizasyon fonksiyonlarından biri NN de. \n",
    "# Optimizasyonda min. noktaya giderken ilerleyişimizi hızlandırıp, yavaslatan bir ayar bu.\n",
    "# Gradient descentte learning rate'i sabit tutuyorken Adam opt. de learning rate  adaptive momentum sekilde güncellenerek daha hızlı ögrenir.\n",
    "optimizer = Adam(lr=0.001, beta_1=0.9, beta_2=0.999 )"
   ]
  },
  {
   "cell_type": "markdown",
   "metadata": {},
   "source": [
    "### c. Compiling the Model"
   ]
  },
  {
   "cell_type": "code",
   "execution_count": 58,
   "metadata": {},
   "outputs": [],
   "source": [
    "# Compiling the model (For Multi-class Classification we use \"categorical_crossentropy\")\n",
    "# Then, We need to specify the metric to evaluate our models performance, accuracy\n",
    "model.compile(optimizer=optimizer, loss=\"categorical_crossentropy\", metrics=[\"accuracy\"])"
   ]
  },
  {
   "cell_type": "markdown",
   "metadata": {},
   "source": [
    "### d. Model Summary"
   ]
  },
  {
   "cell_type": "code",
   "execution_count": 59,
   "metadata": {},
   "outputs": [
    {
     "name": "stdout",
     "output_type": "stream",
     "text": [
      "Model: \"sequential_3\"\n",
      "_________________________________________________________________\n",
      "Layer (type)                 Output Shape              Param #   \n",
      "=================================================================\n",
      "conv2d_8 (Conv2D)            (None, 28, 28, 32)        320       \n",
      "_________________________________________________________________\n",
      "max_pooling2d_5 (MaxPooling2 (None, 14, 14, 32)        0         \n",
      "_________________________________________________________________\n",
      "dropout_10 (Dropout)         (None, 14, 14, 32)        0         \n",
      "_________________________________________________________________\n",
      "conv2d_9 (Conv2D)            (None, 14, 14, 64)        18496     \n",
      "_________________________________________________________________\n",
      "max_pooling2d_6 (MaxPooling2 (None, 7, 7, 64)          0         \n",
      "_________________________________________________________________\n",
      "dropout_11 (Dropout)         (None, 7, 7, 64)          0         \n",
      "_________________________________________________________________\n",
      "conv2d_10 (Conv2D)           (None, 7, 7, 128)         73856     \n",
      "_________________________________________________________________\n",
      "max_pooling2d_7 (MaxPooling2 (None, 3, 3, 128)         0         \n",
      "_________________________________________________________________\n",
      "dropout_12 (Dropout)         (None, 3, 3, 128)         0         \n",
      "_________________________________________________________________\n",
      "flatten_3 (Flatten)          (None, 1152)              0         \n",
      "_________________________________________________________________\n",
      "dense_6 (Dense)              (None, 128)               147584    \n",
      "_________________________________________________________________\n",
      "dropout_13 (Dropout)         (None, 128)               0         \n",
      "_________________________________________________________________\n",
      "dense_7 (Dense)              (None, 10)                1290      \n",
      "=================================================================\n",
      "Total params: 241,546\n",
      "Trainable params: 241,546\n",
      "Non-trainable params: 0\n",
      "_________________________________________________________________\n"
     ]
    }
   ],
   "source": [
    "model.summary()"
   ]
  },
  {
   "cell_type": "code",
   "execution_count": 60,
   "metadata": {},
   "outputs": [],
   "source": [
    "# from keras.utils import plot_model\n",
    "# from IPython.display import SVG\n",
    "# from keras.utils import model_to_dot\n",
    "\n",
    "# plot_model(model, to_file='model.png',show_shapes=True)\n",
    "# SVG(model_to_dot(model).create(prog='dot', format='svg'))"
   ]
  },
  {
   "cell_type": "markdown",
   "metadata": {},
   "source": [
    "### e. Batch and Epoch Size"
   ]
  },
  {
   "cell_type": "code",
   "execution_count": 61,
   "metadata": {},
   "outputs": [],
   "source": [
    "# Batch her bir forward ve backward yaptıgımız işlem. Batch = 128 dersek bu durumda 128 örnegi aynı anda forward -backward yapacak. \n",
    "# Toplam training observation sayısı 48000 ise 48000/128 = 375. 1 epoch = 375 batchten olusur. \n",
    "# 20 * 375 = 7500 batch yapmıs olacagız bu durumda training için.\n",
    "\n",
    "batch_size = 128\n",
    "epochs = 20"
   ]
  },
  {
   "cell_type": "markdown",
   "metadata": {},
   "source": [
    "### f. Data Augmentation"
   ]
  },
  {
   "cell_type": "code",
   "execution_count": 62,
   "metadata": {},
   "outputs": [],
   "source": [
    "# Overfittingi engellemek için herbir image in degiştirerekte tanıtmak istiyoruz. Kücük degişikliklerle oginal image imize \n",
    "# benzeyen imageler geliştiriyorum.  (zooming, rotasyon degiştiriyoruz, farklı bir noktasına odaklanıyoruz vb.)\n",
    "\n",
    "\n",
    "datagen = ImageDataGenerator(\n",
    "        featurewise_center=False,  # set input mean to 0 over the dataset\n",
    "        samplewise_center=False,  # set each sample mean to 0\n",
    "        featurewise_std_normalization=False,  # divide inputs by std of the dataset\n",
    "        samplewise_std_normalization=False,  # divide each input by its std\n",
    "        zca_whitening=False,  # dimesion reduction\n",
    "        rotation_range=0.5,  # randomly rotate images in the range 5 degrees\n",
    "        zoom_range = 0.5, # Randomly zoom image 5%\n",
    "        width_shift_range=0.5,  # randomly shift images horizontally 5%\n",
    "        height_shift_range=0.5,  # randomly shift images vertically 5%\n",
    "        horizontal_flip=False,  # randomly flip images\n",
    "        vertical_flip=False)  # randomly flip images\n",
    "\n",
    "datagen.fit(X_train)"
   ]
  },
  {
   "cell_type": "markdown",
   "metadata": {},
   "source": [
    "### e. Fit the Model"
   ]
  },
  {
   "cell_type": "code",
   "execution_count": 63,
   "metadata": {},
   "outputs": [
    {
     "name": "stdout",
     "output_type": "stream",
     "text": [
      "Epoch 1/20\n",
      " - 145s - loss: 1.6744 - acc: 0.3583 - val_loss: 0.8860 - val_acc: 0.6753\n",
      "Epoch 2/20\n",
      " - 122s - loss: 1.2520 - acc: 0.5317 - val_loss: 0.7737 - val_acc: 0.6995\n",
      "Epoch 3/20\n",
      " - 131s - loss: 1.0931 - acc: 0.5927 - val_loss: 0.6651 - val_acc: 0.7297\n",
      "Epoch 4/20\n",
      " - 133s - loss: 1.0228 - acc: 0.6175 - val_loss: 0.6235 - val_acc: 0.7569\n",
      "Epoch 5/20\n",
      " - 144s - loss: 0.9721 - acc: 0.6369 - val_loss: 0.6277 - val_acc: 0.7542\n",
      "Epoch 6/20\n",
      " - 141s - loss: 0.9429 - acc: 0.6461 - val_loss: 0.5849 - val_acc: 0.7760\n",
      "Epoch 7/20\n",
      " - 129s - loss: 0.9112 - acc: 0.6585 - val_loss: 0.5494 - val_acc: 0.7931\n",
      "Epoch 8/20\n",
      " - 129s - loss: 0.8852 - acc: 0.6689 - val_loss: 0.5688 - val_acc: 0.7799\n",
      "Epoch 9/20\n",
      " - 130s - loss: 0.8647 - acc: 0.6789 - val_loss: 0.5516 - val_acc: 0.7927\n",
      "Epoch 10/20\n",
      " - 122s - loss: 0.8539 - acc: 0.6818 - val_loss: 0.5671 - val_acc: 0.7900\n",
      "Epoch 11/20\n",
      " - 128s - loss: 0.8350 - acc: 0.6885 - val_loss: 0.5526 - val_acc: 0.7833\n",
      "Epoch 12/20\n",
      " - 132s - loss: 0.8167 - acc: 0.6977 - val_loss: 0.5007 - val_acc: 0.8103\n",
      "Epoch 13/20\n",
      " - 119s - loss: 0.8099 - acc: 0.7007 - val_loss: 0.4856 - val_acc: 0.8171\n",
      "Epoch 14/20\n",
      " - 116s - loss: 0.7951 - acc: 0.7072 - val_loss: 0.4806 - val_acc: 0.8154\n",
      "Epoch 15/20\n",
      " - 117s - loss: 0.7835 - acc: 0.7093 - val_loss: 0.4794 - val_acc: 0.8183\n",
      "Epoch 16/20\n",
      " - 116s - loss: 0.7831 - acc: 0.7139 - val_loss: 0.4837 - val_acc: 0.8156\n",
      "Epoch 17/20\n",
      " - 116s - loss: 0.7679 - acc: 0.7176 - val_loss: 0.4834 - val_acc: 0.8232\n",
      "Epoch 18/20\n",
      " - 116s - loss: 0.7710 - acc: 0.7153 - val_loss: 0.4660 - val_acc: 0.8219\n",
      "Epoch 19/20\n",
      " - 117s - loss: 0.7626 - acc: 0.7208 - val_loss: 0.4522 - val_acc: 0.8274\n",
      "Epoch 20/20\n",
      " - 117s - loss: 0.7565 - acc: 0.7225 - val_loss: 0.4902 - val_acc: 0.8108\n"
     ]
    }
   ],
   "source": [
    "# Fit the model\n",
    "history = model.fit_generator(datagen.flow(X_train,y_train, batch_size=batch_size),\n",
    "                              epochs = epochs, \n",
    "                              validation_data = (X_val,y_val), \n",
    "                              verbose=2)"
   ]
  },
  {
   "cell_type": "markdown",
   "metadata": {},
   "source": [
    "### f. Evaluation the Model\n",
    "\n",
    "- Test Loss visualization\n",
    "- Confusion matrix"
   ]
  },
  {
   "cell_type": "code",
   "execution_count": 64,
   "metadata": {},
   "outputs": [
    {
     "name": "stdout",
     "output_type": "stream",
     "text": [
      "12000/12000 [==============================] - ETA:  - 11s 919us/step\n",
      "Loss: 0.4902\n",
      "Accuracy: 0.8108\n"
     ]
    }
   ],
   "source": [
    "score = model.evaluate(X_val, y_val)\n",
    "\n",
    "print('Loss: {:.4f}'.format(score[0]))\n",
    "print('Accuracy: {:.4f}'.format(score[1]))"
   ]
  },
  {
   "cell_type": "code",
   "execution_count": 65,
   "metadata": {},
   "outputs": [
    {
     "data": {
      "text/html": [
       "        <script type=\"text/javascript\">\n",
       "        window.PlotlyConfig = {MathJaxConfig: 'local'};\n",
       "        if (window.MathJax) {MathJax.Hub.Config({SVG: {font: \"STIX-Web\"}});}\n",
       "        if (typeof require !== 'undefined') {\n",
       "        require.undef(\"plotly\");\n",
       "        requirejs.config({\n",
       "            paths: {\n",
       "                'plotly': ['https://cdn.plot.ly/plotly-latest.min']\n",
       "            }\n",
       "        });\n",
       "        require(['plotly'], function(Plotly) {\n",
       "            window._Plotly = Plotly;\n",
       "        });\n",
       "        }\n",
       "        </script>\n",
       "        "
      ]
     },
     "metadata": {},
     "output_type": "display_data"
    },
    {
     "name": "stdout",
     "output_type": "stream",
     "text": [
      "This is the format of your plot grid:\n",
      "[ (1,1) x1,y1 ]  [ (1,2) x2,y2 ]\n",
      "\n"
     ]
    },
    {
     "data": {
      "application/vnd.plotly.v1+json": {
       "config": {
        "linkText": "Export to plot.ly",
        "plotlyServerURL": "https://plot.ly",
        "responsive": true,
        "showLink": false
       },
       "data": [
        {
         "marker": {
          "color": "Green"
         },
         "mode": "markers+lines",
         "name": "Training accuracy",
         "text": [
          "1",
          "2",
          "3",
          "4",
          "5",
          "6",
          "7",
          "8",
          "9",
          "10",
          "11",
          "12",
          "13",
          "14",
          "15",
          "16",
          "17",
          "18",
          "19",
          "20",
          "21",
          "22",
          "23",
          "24",
          "25",
          "26",
          "27",
          "28",
          "29",
          "30",
          "31",
          "32",
          "33",
          "34",
          "35",
          "36",
          "37",
          "38",
          "39",
          "40"
         ],
         "type": "scatter",
         "uid": "c0acc30d-f1d3-43e2-8dc6-e29955fcd030",
         "x": [
          1,
          2,
          3,
          4,
          5,
          6,
          7,
          8,
          9,
          10,
          11,
          12,
          13,
          14,
          15,
          16,
          17,
          18,
          19,
          20,
          21,
          22,
          23,
          24,
          25,
          26,
          27,
          28,
          29,
          30,
          31,
          32,
          33,
          34,
          35,
          36,
          37,
          38,
          39,
          40
         ],
         "xaxis": "x",
         "y": [
          0.700625,
          0.7967291666666667,
          0.8286458333333333,
          0.8460625,
          0.8540416666666667,
          0.8633125,
          0.8654583333333333,
          0.8706041666666666,
          0.8753125,
          0.8779375,
          0.8821666666666667,
          0.8835625,
          0.8864583333333333,
          0.8886458333333334,
          0.8900625,
          0.8926875,
          0.8954375,
          0.895625,
          0.8947291666666667,
          0.8973958333333333,
          0.8994791666666667,
          0.9006666666666666,
          0.9023958333333333,
          0.9017291666666667,
          0.9040833333333333,
          0.9038333333333334,
          0.9069375,
          0.9049375,
          0.9071041666666667,
          0.9089166666666667,
          0.9093541666666667,
          0.9094583333333334,
          0.9104166666666667,
          0.9123125,
          0.9117083333333333,
          0.9111458333333333,
          0.9138958333333334,
          0.9153125,
          0.9159166666666667,
          0.9157708333333333
         ],
         "yaxis": "y"
        },
        {
         "marker": {
          "color": "Red"
         },
         "mode": "markers+lines",
         "name": "Validation accuracy",
         "text": [
          "1",
          "2",
          "3",
          "4",
          "5",
          "6",
          "7",
          "8",
          "9",
          "10",
          "11",
          "12",
          "13",
          "14",
          "15",
          "16",
          "17",
          "18",
          "19",
          "20",
          "21",
          "22",
          "23",
          "24",
          "25",
          "26",
          "27",
          "28",
          "29",
          "30",
          "31",
          "32",
          "33",
          "34",
          "35",
          "36",
          "37",
          "38",
          "39",
          "40"
         ],
         "type": "scatter",
         "uid": "9a7129e6-f0eb-4831-946a-dc928d70b535",
         "x": [
          1,
          2,
          3,
          4,
          5,
          6,
          7,
          8,
          9,
          10,
          11,
          12,
          13,
          14,
          15,
          16,
          17,
          18,
          19,
          20,
          21,
          22,
          23,
          24,
          25,
          26,
          27,
          28,
          29,
          30,
          31,
          32,
          33,
          34,
          35,
          36,
          37,
          38,
          39,
          40
         ],
         "xaxis": "x",
         "y": [
          0.7865000001589457,
          0.8535000001589457,
          0.8697499998410543,
          0.876,
          0.888416666507721,
          0.8965000001589457,
          0.8890833334922791,
          0.8950000001589458,
          0.8939166666666667,
          0.9068333331743876,
          0.912666666507721,
          0.9073333334922791,
          0.8964166666666666,
          0.9193333334922791,
          0.9008333331743876,
          0.9095833333333333,
          0.9079999998410543,
          0.920916666507721,
          0.9173333334922791,
          0.9226666668256124,
          0.9221666666666667,
          0.9177499998410543,
          0.9142499998410543,
          0.9085833331743877,
          0.9152500001589458,
          0.9198333331743876,
          0.917833333492279,
          0.9241666668256124,
          0.9264999998410542,
          0.9284166668256124,
          0.9299166668256124,
          0.9285,
          0.9216666666666666,
          0.9300000001589457,
          0.92325,
          0.9308333333333333,
          0.919,
          0.9278333331743877,
          0.9255,
          0.922916666507721
         ],
         "yaxis": "y"
        },
        {
         "marker": {
          "color": "Blue"
         },
         "mode": "markers+lines",
         "name": "Training loss",
         "text": [
          "1",
          "2",
          "3",
          "4",
          "5",
          "6",
          "7",
          "8",
          "9",
          "10",
          "11",
          "12",
          "13",
          "14",
          "15",
          "16",
          "17",
          "18",
          "19",
          "20",
          "21",
          "22",
          "23",
          "24",
          "25",
          "26",
          "27",
          "28",
          "29",
          "30",
          "31",
          "32",
          "33",
          "34",
          "35",
          "36",
          "37",
          "38",
          "39",
          "40"
         ],
         "type": "scatter",
         "uid": "28dc5d33-b0dc-458b-9bf5-616749e3b03c",
         "x": [
          1,
          2,
          3,
          4,
          5,
          6,
          7,
          8,
          9,
          10,
          11,
          12,
          13,
          14,
          15,
          16,
          17,
          18,
          19,
          20,
          21,
          22,
          23,
          24,
          25,
          26,
          27,
          28,
          29,
          30,
          31,
          32,
          33,
          34,
          35,
          36,
          37,
          38,
          39,
          40
         ],
         "xaxis": "x2",
         "y": [
          0.8386671134630839,
          0.5537998250325521,
          0.47321946851412455,
          0.4310008707443873,
          0.40564787471294406,
          0.3844181251923243,
          0.37328125011920926,
          0.3577297195196152,
          0.34602767443656923,
          0.33989305651187895,
          0.33031545182069144,
          0.3217068931659063,
          0.3160882728099823,
          0.3110499997138977,
          0.30311306993166603,
          0.3001549759308497,
          0.2926083638270696,
          0.28851208651065824,
          0.2876070310672124,
          0.28324938015143075,
          0.27779145642121633,
          0.27383146637678146,
          0.27001536822319033,
          0.2721425315539042,
          0.2682484131852786,
          0.26468536859750746,
          0.2589879588286082,
          0.2603739419579506,
          0.259581130584081,
          0.2552328625718753,
          0.2518233302632968,
          0.24935966875155766,
          0.2486195909778277,
          0.2451297993461291,
          0.24389334632953008,
          0.24345211213827134,
          0.23788867710034053,
          0.23830224281549453,
          0.23558818900585174,
          0.23289313797156017
         ],
         "yaxis": "y2"
        },
        {
         "marker": {
          "color": "Magenta"
         },
         "mode": "markers+lines",
         "name": "Validation loss",
         "text": [
          "1",
          "2",
          "3",
          "4",
          "5",
          "6",
          "7",
          "8",
          "9",
          "10",
          "11",
          "12",
          "13",
          "14",
          "15",
          "16",
          "17",
          "18",
          "19",
          "20",
          "21",
          "22",
          "23",
          "24",
          "25",
          "26",
          "27",
          "28",
          "29",
          "30",
          "31",
          "32",
          "33",
          "34",
          "35",
          "36",
          "37",
          "38",
          "39",
          "40"
         ],
         "type": "scatter",
         "uid": "55eaf3f4-7618-4dcf-ba41-0bc927c7e2b5",
         "x": [
          1,
          2,
          3,
          4,
          5,
          6,
          7,
          8,
          9,
          10,
          11,
          12,
          13,
          14,
          15,
          16,
          17,
          18,
          19,
          20,
          21,
          22,
          23,
          24,
          25,
          26,
          27,
          28,
          29,
          30,
          31,
          32,
          33,
          34,
          35,
          36,
          37,
          38,
          39,
          40
         ],
         "xaxis": "x2",
         "y": [
          0.5436480301221212,
          0.3945747010707855,
          0.3532178706328074,
          0.32298826885223386,
          0.30625258485476176,
          0.27660327140490215,
          0.2922305332819621,
          0.27538121565183005,
          0.2776609054803848,
          0.2499429699977239,
          0.23754218780994416,
          0.246395001689593,
          0.25953376189867655,
          0.22105096912384034,
          0.26538113049666084,
          0.23789078303178152,
          0.24130138727029166,
          0.21666264013449352,
          0.22206499270598093,
          0.21090827838579815,
          0.2115817121664683,
          0.21985628163814544,
          0.22348643938700358,
          0.23057023561000825,
          0.22336377533276877,
          0.215299503048261,
          0.22216017210483552,
          0.20877589015165965,
          0.19962998720010122,
          0.19953104972839356,
          0.1948092174132665,
          0.1972656055688858,
          0.2083788783152898,
          0.19305871240297953,
          0.20928410085042318,
          0.191583558122317,
          0.229664857506752,
          0.20020119965076447,
          0.19898529104391735,
          0.21220296291510263
         ],
         "yaxis": "y2"
        }
       ],
       "layout": {
        "annotations": [
         {
          "font": {
           "size": 16
          },
          "showarrow": false,
          "text": "Training and validation accuracy",
          "x": 0.225,
          "xanchor": "center",
          "xref": "paper",
          "y": 1,
          "yanchor": "bottom",
          "yref": "paper"
         },
         {
          "font": {
           "size": 16
          },
          "showarrow": false,
          "text": "Training and validation loss",
          "x": 0.775,
          "xanchor": "center",
          "xref": "paper",
          "y": 1,
          "yanchor": "bottom",
          "yref": "paper"
         }
        ],
        "xaxis": {
         "anchor": "y",
         "domain": [
          0,
          0.45
         ],
         "title": {
          "text": "Epoch"
         }
        },
        "xaxis2": {
         "anchor": "y2",
         "domain": [
          0.55,
          1
         ],
         "title": {
          "text": "Epoch"
         }
        },
        "yaxis": {
         "anchor": "x",
         "domain": [
          0,
          1
         ],
         "range": [
          0,
          1
         ],
         "title": {
          "text": "Accuracy"
         }
        },
        "yaxis2": {
         "anchor": "x2",
         "domain": [
          0,
          1
         ],
         "range": [
          0,
          1
         ],
         "title": {
          "text": "Loss"
         }
        }
       }
      },
      "text/html": [
       "<div>\n",
       "        \n",
       "        \n",
       "            <div id=\"5f60ea04-0af7-4a05-aca8-43e43435aacf\" class=\"plotly-graph-div\" style=\"height:525px; width:100%;\"></div>\n",
       "            <script type=\"text/javascript\">\n",
       "                require([\"plotly\"], function(Plotly) {\n",
       "                    window.PLOTLYENV=window.PLOTLYENV || {};\n",
       "                    window.PLOTLYENV.BASE_URL='https://plot.ly';\n",
       "                    \n",
       "                if (document.getElementById(\"5f60ea04-0af7-4a05-aca8-43e43435aacf\")) {\n",
       "                    Plotly.newPlot(\n",
       "                        '5f60ea04-0af7-4a05-aca8-43e43435aacf',\n",
       "                        [{\"marker\": {\"color\": \"Green\"}, \"mode\": \"markers+lines\", \"name\": \"Training accuracy\", \"text\": [\"1\", \"2\", \"3\", \"4\", \"5\", \"6\", \"7\", \"8\", \"9\", \"10\", \"11\", \"12\", \"13\", \"14\", \"15\", \"16\", \"17\", \"18\", \"19\", \"20\", \"21\", \"22\", \"23\", \"24\", \"25\", \"26\", \"27\", \"28\", \"29\", \"30\", \"31\", \"32\", \"33\", \"34\", \"35\", \"36\", \"37\", \"38\", \"39\", \"40\"], \"type\": \"scatter\", \"uid\": \"c979c083-034a-4f7b-a754-65884284e895\", \"x\": [1, 2, 3, 4, 5, 6, 7, 8, 9, 10, 11, 12, 13, 14, 15, 16, 17, 18, 19, 20, 21, 22, 23, 24, 25, 26, 27, 28, 29, 30, 31, 32, 33, 34, 35, 36, 37, 38, 39, 40], \"xaxis\": \"x\", \"y\": [0.700625, 0.7967291666666667, 0.8286458333333333, 0.8460625, 0.8540416666666667, 0.8633125, 0.8654583333333333, 0.8706041666666666, 0.8753125, 0.8779375, 0.8821666666666667, 0.8835625, 0.8864583333333333, 0.8886458333333334, 0.8900625, 0.8926875, 0.8954375, 0.895625, 0.8947291666666667, 0.8973958333333333, 0.8994791666666667, 0.9006666666666666, 0.9023958333333333, 0.9017291666666667, 0.9040833333333333, 0.9038333333333334, 0.9069375, 0.9049375, 0.9071041666666667, 0.9089166666666667, 0.9093541666666667, 0.9094583333333334, 0.9104166666666667, 0.9123125, 0.9117083333333333, 0.9111458333333333, 0.9138958333333334, 0.9153125, 0.9159166666666667, 0.9157708333333333], \"yaxis\": \"y\"}, {\"marker\": {\"color\": \"Red\"}, \"mode\": \"markers+lines\", \"name\": \"Validation accuracy\", \"text\": [\"1\", \"2\", \"3\", \"4\", \"5\", \"6\", \"7\", \"8\", \"9\", \"10\", \"11\", \"12\", \"13\", \"14\", \"15\", \"16\", \"17\", \"18\", \"19\", \"20\", \"21\", \"22\", \"23\", \"24\", \"25\", \"26\", \"27\", \"28\", \"29\", \"30\", \"31\", \"32\", \"33\", \"34\", \"35\", \"36\", \"37\", \"38\", \"39\", \"40\"], \"type\": \"scatter\", \"uid\": \"91f7a1e2-2b46-4dbb-8a04-b8f80e92b60f\", \"x\": [1, 2, 3, 4, 5, 6, 7, 8, 9, 10, 11, 12, 13, 14, 15, 16, 17, 18, 19, 20, 21, 22, 23, 24, 25, 26, 27, 28, 29, 30, 31, 32, 33, 34, 35, 36, 37, 38, 39, 40], \"xaxis\": \"x\", \"y\": [0.7865000001589457, 0.8535000001589457, 0.8697499998410543, 0.876, 0.888416666507721, 0.8965000001589457, 0.8890833334922791, 0.8950000001589458, 0.8939166666666667, 0.9068333331743876, 0.912666666507721, 0.9073333334922791, 0.8964166666666666, 0.9193333334922791, 0.9008333331743876, 0.9095833333333333, 0.9079999998410543, 0.920916666507721, 0.9173333334922791, 0.9226666668256124, 0.9221666666666667, 0.9177499998410543, 0.9142499998410543, 0.9085833331743877, 0.9152500001589458, 0.9198333331743876, 0.917833333492279, 0.9241666668256124, 0.9264999998410542, 0.9284166668256124, 0.9299166668256124, 0.9285, 0.9216666666666666, 0.9300000001589457, 0.92325, 0.9308333333333333, 0.919, 0.9278333331743877, 0.9255, 0.922916666507721], \"yaxis\": \"y\"}, {\"marker\": {\"color\": \"Blue\"}, \"mode\": \"markers+lines\", \"name\": \"Training loss\", \"text\": [\"1\", \"2\", \"3\", \"4\", \"5\", \"6\", \"7\", \"8\", \"9\", \"10\", \"11\", \"12\", \"13\", \"14\", \"15\", \"16\", \"17\", \"18\", \"19\", \"20\", \"21\", \"22\", \"23\", \"24\", \"25\", \"26\", \"27\", \"28\", \"29\", \"30\", \"31\", \"32\", \"33\", \"34\", \"35\", \"36\", \"37\", \"38\", \"39\", \"40\"], \"type\": \"scatter\", \"uid\": \"bbc82fa3-b51b-4b46-9775-719c1d7dafca\", \"x\": [1, 2, 3, 4, 5, 6, 7, 8, 9, 10, 11, 12, 13, 14, 15, 16, 17, 18, 19, 20, 21, 22, 23, 24, 25, 26, 27, 28, 29, 30, 31, 32, 33, 34, 35, 36, 37, 38, 39, 40], \"xaxis\": \"x2\", \"y\": [0.8386671134630839, 0.5537998250325521, 0.47321946851412455, 0.4310008707443873, 0.40564787471294406, 0.3844181251923243, 0.37328125011920926, 0.3577297195196152, 0.34602767443656923, 0.33989305651187895, 0.33031545182069144, 0.3217068931659063, 0.3160882728099823, 0.3110499997138977, 0.30311306993166603, 0.3001549759308497, 0.2926083638270696, 0.28851208651065824, 0.2876070310672124, 0.28324938015143075, 0.27779145642121633, 0.27383146637678146, 0.27001536822319033, 0.2721425315539042, 0.2682484131852786, 0.26468536859750746, 0.2589879588286082, 0.2603739419579506, 0.259581130584081, 0.2552328625718753, 0.2518233302632968, 0.24935966875155766, 0.2486195909778277, 0.2451297993461291, 0.24389334632953008, 0.24345211213827134, 0.23788867710034053, 0.23830224281549453, 0.23558818900585174, 0.23289313797156017], \"yaxis\": \"y2\"}, {\"marker\": {\"color\": \"Magenta\"}, \"mode\": \"markers+lines\", \"name\": \"Validation loss\", \"text\": [\"1\", \"2\", \"3\", \"4\", \"5\", \"6\", \"7\", \"8\", \"9\", \"10\", \"11\", \"12\", \"13\", \"14\", \"15\", \"16\", \"17\", \"18\", \"19\", \"20\", \"21\", \"22\", \"23\", \"24\", \"25\", \"26\", \"27\", \"28\", \"29\", \"30\", \"31\", \"32\", \"33\", \"34\", \"35\", \"36\", \"37\", \"38\", \"39\", \"40\"], \"type\": \"scatter\", \"uid\": \"7d615503-d4c4-4963-aaa0-3568b5058ab9\", \"x\": [1, 2, 3, 4, 5, 6, 7, 8, 9, 10, 11, 12, 13, 14, 15, 16, 17, 18, 19, 20, 21, 22, 23, 24, 25, 26, 27, 28, 29, 30, 31, 32, 33, 34, 35, 36, 37, 38, 39, 40], \"xaxis\": \"x2\", \"y\": [0.5436480301221212, 0.3945747010707855, 0.3532178706328074, 0.32298826885223386, 0.30625258485476176, 0.27660327140490215, 0.2922305332819621, 0.27538121565183005, 0.2776609054803848, 0.2499429699977239, 0.23754218780994416, 0.246395001689593, 0.25953376189867655, 0.22105096912384034, 0.26538113049666084, 0.23789078303178152, 0.24130138727029166, 0.21666264013449352, 0.22206499270598093, 0.21090827838579815, 0.2115817121664683, 0.21985628163814544, 0.22348643938700358, 0.23057023561000825, 0.22336377533276877, 0.215299503048261, 0.22216017210483552, 0.20877589015165965, 0.19962998720010122, 0.19953104972839356, 0.1948092174132665, 0.1972656055688858, 0.2083788783152898, 0.19305871240297953, 0.20928410085042318, 0.191583558122317, 0.229664857506752, 0.20020119965076447, 0.19898529104391735, 0.21220296291510263], \"yaxis\": \"y2\"}],\n",
       "                        {\"annotations\": [{\"font\": {\"size\": 16}, \"showarrow\": false, \"text\": \"Training and validation accuracy\", \"x\": 0.225, \"xanchor\": \"center\", \"xref\": \"paper\", \"y\": 1.0, \"yanchor\": \"bottom\", \"yref\": \"paper\"}, {\"font\": {\"size\": 16}, \"showarrow\": false, \"text\": \"Training and validation loss\", \"x\": 0.775, \"xanchor\": \"center\", \"xref\": \"paper\", \"y\": 1.0, \"yanchor\": \"bottom\", \"yref\": \"paper\"}], \"xaxis\": {\"anchor\": \"y\", \"domain\": [0.0, 0.45], \"title\": {\"text\": \"Epoch\"}}, \"xaxis2\": {\"anchor\": \"y2\", \"domain\": [0.55, 1.0], \"title\": {\"text\": \"Epoch\"}}, \"yaxis\": {\"anchor\": \"x\", \"domain\": [0.0, 1.0], \"range\": [0, 1], \"title\": {\"text\": \"Accuracy\"}}, \"yaxis2\": {\"anchor\": \"x2\", \"domain\": [0.0, 1.0], \"range\": [0, 1], \"title\": {\"text\": \"Loss\"}}},\n",
       "                        {\"showLink\": false, \"linkText\": \"Export to plot.ly\", \"plotlyServerURL\": \"https://plot.ly\", \"responsive\": true}\n",
       "                    ).then(function(){\n",
       "                            \n",
       "var gd = document.getElementById('5f60ea04-0af7-4a05-aca8-43e43435aacf');\n",
       "var x = new MutationObserver(function (mutations, observer) {{\n",
       "        var display = window.getComputedStyle(gd).display;\n",
       "        if (!display || display === 'none') {{\n",
       "            console.log([gd, 'removed!']);\n",
       "            Plotly.purge(gd);\n",
       "            observer.disconnect();\n",
       "        }}\n",
       "}});\n",
       "\n",
       "// Listen for the removal of the full notebook cells\n",
       "var notebookContainer = gd.closest('#notebook-container');\n",
       "if (notebookContainer) {{\n",
       "    x.observe(notebookContainer, {childList: true});\n",
       "}}\n",
       "\n",
       "// Listen for the clearing of the current output cell\n",
       "var outputEl = gd.closest('.output');\n",
       "if (outputEl) {{\n",
       "    x.observe(outputEl, {childList: true});\n",
       "}}\n",
       "\n",
       "                        })\n",
       "                };\n",
       "                });\n",
       "            </script>\n",
       "        </div>"
      ]
     },
     "metadata": {},
     "output_type": "display_data"
    }
   ],
   "source": [
    "import plotly.graph_objs as go\n",
    "import plotly.figure_factory as ff\n",
    "from plotly import tools\n",
    "from plotly.offline import download_plotlyjs, init_notebook_mode, plot, iplot\n",
    "init_notebook_mode(connected=True)\n",
    "\n",
    "def create_trace(x,y,ylabel,color):\n",
    "        trace = go.Scatter(\n",
    "            x = x,y = y,\n",
    "            name=ylabel,\n",
    "            marker=dict(color=color),\n",
    "            mode = \"markers+lines\",\n",
    "            text=x\n",
    "        )\n",
    "        return trace\n",
    "    \n",
    "def plot_accuracy_and_loss(train_model):\n",
    "    hist = train_model.history\n",
    "    acc = hist['acc']\n",
    "    val_acc = hist['val_acc']\n",
    "    loss = hist['loss']\n",
    "    val_loss = hist['val_loss']\n",
    "    epochs = list(range(1,len(acc)+1))\n",
    "    \n",
    "    trace_ta = create_trace(epochs,acc,\"Training accuracy\", \"Green\")\n",
    "    trace_va = create_trace(epochs,val_acc,\"Validation accuracy\", \"Red\")\n",
    "    trace_tl = create_trace(epochs,loss,\"Training loss\", \"Blue\")\n",
    "    trace_vl = create_trace(epochs,val_loss,\"Validation loss\", \"Magenta\")\n",
    "   \n",
    "    fig = tools.make_subplots(rows=1,cols=2, subplot_titles=('Training and validation accuracy',\n",
    "                                                             'Training and validation loss'))\n",
    "    fig.append_trace(trace_ta,1,1)\n",
    "    fig.append_trace(trace_va,1,1)\n",
    "    fig.append_trace(trace_tl,1,2)\n",
    "    fig.append_trace(trace_vl,1,2)\n",
    "    fig['layout']['xaxis'].update(title = 'Epoch')\n",
    "    fig['layout']['xaxis2'].update(title = 'Epoch')\n",
    "    fig['layout']['yaxis'].update(title = 'Accuracy', range=[0,1])\n",
    "    fig['layout']['yaxis2'].update(title = 'Loss', range=[0,1])\n",
    "\n",
    "    \n",
    "    iplot(fig, filename='accuracy-loss')\n",
    "\n",
    "plot_accuracy_and_loss(train_model)"
   ]
  },
  {
   "cell_type": "code",
   "execution_count": 66,
   "metadata": {},
   "outputs": [
    {
     "data": {
      "image/png": "[encoded data removed]",
      "text/plain": [
       "<Figure size 432x288 with 1 Axes>"
      ]
     },
     "metadata": {},
     "output_type": "display_data"
    }
   ],
   "source": [
    "plt.plot(history.history['loss'])\n",
    "plt.plot(history.history['val_loss'])\n",
    "plt.title(\"Model Loss\")\n",
    "plt.xlabel('Epochs')\n",
    "plt.ylabel('Loss')\n",
    "plt.legend(['Train', 'Test'])\n",
    "plt.show()"
   ]
  },
  {
   "cell_type": "markdown",
   "metadata": {},
   "source": [
    "Test loss'muz 0.9181 dan baslayarak 0.4839 'a kadar azalıyor. Epoch sayısı arttıkca buda azalacagını görebiliyoruz."
   ]
  },
  {
   "cell_type": "code",
   "execution_count": 67,
   "metadata": {},
   "outputs": [
    {
     "data": {
      "image/png": "[encoded data removed]",
      "text/plain": [
       "<Figure size 720x720 with 2 Axes>"
      ]
     },
     "metadata": {},
     "output_type": "display_data"
    }
   ],
   "source": [
    "# Plot confusion matrix\n",
    "\n",
    "import math \n",
    "import itertools\n",
    "\n",
    "def plot_confusion_matrix(cm, classes,\n",
    "                          normalize=False,\n",
    "                          title='Confusion matrix',\n",
    "                          cmap=plt.cm.Blues):\n",
    "    \n",
    "    plt.figure(figsize=(10,10))\n",
    "    plt.imshow(cm, interpolation='nearest', cmap=cmap)\n",
    "    plt.title(title)\n",
    "    plt.colorbar()\n",
    "    tick_marks = np.arange(len(classes))\n",
    "    plt.xticks(tick_marks, classes, rotation=90)\n",
    "    plt.yticks(tick_marks, classes)\n",
    "\n",
    "    if normalize:\n",
    "        cm = cm.astype('float') / cm.sum(axis=1)[:, np.newaxis]\n",
    "\n",
    "    thresh = cm.max() / 2.\n",
    "    for i, j in itertools.product(range(cm.shape[0]), range(cm.shape[1])):\n",
    "        plt.text(j, i, cm[i, j],\n",
    "                 horizontalalignment=\"center\",\n",
    "                 color=\"white\" if cm[i, j] > thresh else \"black\")\n",
    "\n",
    "    plt.tight_layout()\n",
    "    plt.ylabel('True label')\n",
    "    plt.xlabel('Predicted label')\n",
    "    \n",
    "    \n",
    "\n",
    "# Predict the values from the validation dataset\n",
    "Y_pred = model.predict(X_val)\n",
    "# Convert predictions classes to one hot vectors \n",
    "Y_pred_classes = np.argmax(Y_pred,axis = 1) \n",
    "# Convert validation observations to one hot vectors\n",
    "Y_true = np.argmax(y_val,axis = 1) \n",
    "# compute the confusion matrix\n",
    "confusion_mtx = confusion_matrix(Y_true, Y_pred_classes) \n",
    "# plot the confusion matrix\n",
    "plot_confusion_matrix(confusion_mtx, \n",
    "            classes = ['T-shirt/Top','Trouser','Pullover','Dress','Coat','Sandal','Shirt','Sneaker','Bag','Ankle Boot'])"
   ]
  },
  {
   "cell_type": "markdown",
   "metadata": {},
   "source": [
    "Comments: Confusion matrix ile en cok hatanın Coat'a Shirt dediğimizi görebiliriz. Yine Shirt image'ini T-shirt, Pullover, Dress  ve Coat ile yanlıs tahmin etmiş.\n",
    "\n",
    "Shirt olan image'lerede yüksek oranda T-shirt ile hatalı classify ettigini görebiliriz. Pullover,da benzer sınıflandırma hataları mevcut.    "
   ]
  },
  {
   "cell_type": "markdown",
   "metadata": {},
   "source": [
    "### g. Classification Report"
   ]
  },
  {
   "cell_type": "markdown",
   "metadata": {},
   "source": [
    "The classification report visualizer displays the precision, recall, F1, and support scores for the model.\n",
    "\n",
    "- **Precision:**\n",
    "\n",
    "  “For all instances classified positive, what percent was correct?” <br/><br/>\n",
    "\n",
    "- **Recall:**\n",
    "\n",
    "  “For all instances that were actually positive, what percent was classified correctly?”\n"
   ]
  },
  {
   "cell_type": "markdown",
   "metadata": {},
   "source": [
    "\\begin{equation*}\n",
    "Precision = \\frac{TP}{(TP+FP)} \\quad\\quad \n",
    "Recall = \\frac{TP}{(TP+FN)} \\quad\\quad \n",
    "Accuracy = \\frac{TP+TN}{(TP+TN+FP+FN)}\n",
    "\\end{equation*}"
   ]
  },
  {
   "cell_type": "code",
   "execution_count": 68,
   "metadata": {},
   "outputs": [
    {
     "name": "stdout",
     "output_type": "stream",
     "text": [
      "              precision    recall  f1-score   support\n",
      "\n",
      " T-shirt/Top       0.65      0.84      0.73      1232\n",
      "     Trouser       0.99      0.95      0.97      1174\n",
      "    Pullover       0.88      0.65      0.75      1200\n",
      "       Dress       0.93      0.52      0.67      1242\n",
      "        Coat       0.60      0.81      0.69      1185\n",
      "      Sandal       0.97      0.95      0.96      1141\n",
      "       Shirt       0.50      0.54      0.52      1243\n",
      "     Sneaker       0.95      0.95      0.95      1224\n",
      "         Bag       0.91      0.99      0.95      1149\n",
      "  Ankle Boot       0.96      0.95      0.95      1210\n",
      "\n",
      "   micro avg       0.81      0.81      0.81     12000\n",
      "   macro avg       0.83      0.81      0.81     12000\n",
      "weighted avg       0.83      0.81      0.81     12000\n",
      "\n"
     ]
    }
   ],
   "source": [
    "classes = ['T-shirt/Top','Trouser','Pullover','Dress','Coat','Sandal','Shirt','Sneaker','Bag','Ankle Boot']\n",
    "print(classification_report(Y_true, Y_pred_classes, target_names = classes))"
   ]
  },
  {
   "cell_type": "markdown",
   "metadata": {},
   "source": [
    "Look at the Precision of the Shirts, we can see that our model predicted less than 80% of Shirts correctly out of the total images it predicted as Shirts. We did conclude the same from the confusion matrix, where we saw that a lot of T-shirts were misclassified as Shirts."
   ]
  },
  {
   "cell_type": "markdown",
   "metadata": {},
   "source": [
    "### h. Prediction on Test Data"
   ]
  },
  {
   "cell_type": "code",
   "execution_count": 69,
   "metadata": {},
   "outputs": [
    {
     "name": "stdout",
     "output_type": "stream",
     "text": [
      "10000/10000 [==============================] - 13s 1ms/step\n",
      "Loss: 0.4652\n",
      "Accuracy: 0.8245\n"
     ]
    }
   ],
   "source": [
    "score = model.evaluate(test, y_test)\n",
    "\n",
    "print(\"Loss: {:.4f}\".format(score[0]))\n",
    "print(\"Accuracy: {:.4f}\".format(score[1]))"
   ]
  },
  {
   "cell_type": "markdown",
   "metadata": {},
   "source": [
    "# How could I increase the accuracy ?\n",
    "- Adjust data augmentation values \n",
    "- Increase the number of epoch \n",
    "- Add new hidden layers with Dense\n",
    "- Change filter size and kernel_size in the convolution layer."
   ]
  },
  {
   "cell_type": "markdown",
   "metadata": {},
   "source": [
    "# Re-train the Model "
   ]
  },
  {
   "cell_type": "code",
   "execution_count": 22,
   "metadata": {},
   "outputs": [],
   "source": [
    "# Building a ConvNet\n",
    "model = Sequential()\n",
    "model.add(Conv2D(filters=32, kernel_size=(3, 3), activation='relu', strides=1, padding='same', \n",
    "                 data_format='channels_last', input_shape=(28,28,1)))\n",
    "model.add(BatchNormalization())\n",
    "\n",
    "model.add(Conv2D(filters=32, kernel_size=(3, 3), activation='relu', strides=1, padding='same', \n",
    "                 data_format='channels_last'))\n",
    "model.add(BatchNormalization())\n",
    "model.add(Dropout(0.25))\n",
    "\n",
    "model.add(Conv2D(filters=64, kernel_size=(3, 3), activation='relu', strides=1, padding='same', \n",
    "                 data_format='channels_last'))\n",
    "model.add(MaxPooling2D(pool_size=(2, 2)))\n",
    "model.add(Dropout(0.25))\n",
    "    \n",
    "    \n",
    "model.add(Conv2D(filters=128, kernel_size=(3, 3), activation='relu', strides=1, padding='same', \n",
    "                 data_format='channels_last'))\n",
    "model.add(BatchNormalization())\n",
    "model.add(Dropout(0.25))\n",
    "\n",
    "model.add(Flatten())\n",
    "model.add(Dense(512, activation='relu'))\n",
    "model.add(BatchNormalization())\n",
    "model.add(Dropout(0.5))\n",
    "model.add(Dense(128, activation='relu'))\n",
    "model.add(BatchNormalization())\n",
    "model.add(Dropout(0.5))\n",
    "model.add(Dense(10, activation='softmax'))"
   ]
  },
  {
   "cell_type": "code",
   "execution_count": 23,
   "metadata": {},
   "outputs": [],
   "source": [
    "# Optimizer\n",
    "optimizer = Adam(lr=0.001, beta_1=0.9, beta_2=0.999)"
   ]
  },
  {
   "cell_type": "code",
   "execution_count": 24,
   "metadata": {},
   "outputs": [],
   "source": [
    "# Compiling the model\n",
    "model.compile(optimizer=optimizer, loss=\"categorical_crossentropy\", metrics=[\"accuracy\"])"
   ]
  },
  {
   "cell_type": "code",
   "execution_count": 25,
   "metadata": {},
   "outputs": [],
   "source": [
    "# Augmentation\n",
    "datagen = ImageDataGenerator(\n",
    "        rotation_range = 4,  # randomly rotate images in the range (degrees, 0 to 180)\n",
    "        zoom_range = 0.1, # Randomly zoom image \n",
    "        shear_range = 0.3,# shear angle in counter-clockwise direction in degrees  \n",
    "        width_shift_range=0.08,  # randomly shift images horizontally (fraction of total width)\n",
    "        height_shift_range=0.08,  # randomly shift images vertically (fraction of total height)\n",
    "        vertical_flip=True)  # randomly flip images\n",
    "\n",
    "datagen.fit(X_train)"
   ]
  },
  {
   "cell_type": "code",
   "execution_count": 26,
   "metadata": {},
   "outputs": [
    {
     "name": "stdout",
     "output_type": "stream",
     "text": [
      "WARNING:tensorflow:From C:\\ProgramData\\Anaconda3\\lib\\site-packages\\tensorflow\\python\\ops\\math_ops.py:3066: to_int32 (from tensorflow.python.ops.math_ops) is deprecated and will be removed in a future version.\n",
      "Instructions for updating:\n",
      "Use tf.cast instead.\n",
      "Epoch 1/40\n",
      " - 1104s - loss: 0.8387 - acc: 0.7006 - val_loss: 0.5436 - val_acc: 0.7865\n",
      "Epoch 2/40\n",
      " - 3819s - loss: 0.5538 - acc: 0.7967 - val_loss: 0.3946 - val_acc: 0.8535\n",
      "Epoch 3/40\n",
      " - 1123s - loss: 0.4732 - acc: 0.8286 - val_loss: 0.3532 - val_acc: 0.8697\n",
      "Epoch 4/40\n",
      " - 4128s - loss: 0.4310 - acc: 0.8461 - val_loss: 0.3230 - val_acc: 0.8760\n",
      "Epoch 5/40\n",
      " - 1089s - loss: 0.4056 - acc: 0.8540 - val_loss: 0.3063 - val_acc: 0.8884\n",
      "Epoch 6/40\n",
      " - 1149s - loss: 0.3844 - acc: 0.8633 - val_loss: 0.2766 - val_acc: 0.8965\n",
      "Epoch 7/40\n",
      " - 1221s - loss: 0.3733 - acc: 0.8655 - val_loss: 0.2922 - val_acc: 0.8891\n",
      "Epoch 8/40\n",
      " - 1203s - loss: 0.3577 - acc: 0.8706 - val_loss: 0.2754 - val_acc: 0.8950\n",
      "Epoch 9/40\n",
      " - 1399s - loss: 0.3460 - acc: 0.8753 - val_loss: 0.2777 - val_acc: 0.8939\n",
      "Epoch 10/40\n",
      " - 1151s - loss: 0.3399 - acc: 0.8779 - val_loss: 0.2499 - val_acc: 0.9068\n",
      "Epoch 11/40\n",
      " - 1109s - loss: 0.3303 - acc: 0.8822 - val_loss: 0.2375 - val_acc: 0.9127\n",
      "Epoch 12/40\n",
      " - 30414s - loss: 0.3217 - acc: 0.8836 - val_loss: 0.2464 - val_acc: 0.9073\n",
      "Epoch 13/40\n",
      " - 1135s - loss: 0.3161 - acc: 0.8865 - val_loss: 0.2595 - val_acc: 0.8964\n",
      "Epoch 14/40\n",
      " - 1115s - loss: 0.3110 - acc: 0.8886 - val_loss: 0.2211 - val_acc: 0.9193\n",
      "Epoch 15/40\n",
      " - 1198s - loss: 0.3031 - acc: 0.8901 - val_loss: 0.2654 - val_acc: 0.9008\n",
      "Epoch 16/40\n",
      " - 1089s - loss: 0.3002 - acc: 0.8927 - val_loss: 0.2379 - val_acc: 0.9096\n",
      "Epoch 17/40\n",
      " - 1125s - loss: 0.2926 - acc: 0.8954 - val_loss: 0.2413 - val_acc: 0.9080\n",
      "Epoch 18/40\n",
      " - 1172s - loss: 0.2885 - acc: 0.8956 - val_loss: 0.2167 - val_acc: 0.9209\n",
      "Epoch 19/40\n",
      " - 1159s - loss: 0.2876 - acc: 0.8947 - val_loss: 0.2221 - val_acc: 0.9173\n",
      "Epoch 20/40\n",
      " - 1171s - loss: 0.2832 - acc: 0.8974 - val_loss: 0.2109 - val_acc: 0.9227\n",
      "Epoch 21/40\n",
      " - 1178s - loss: 0.2778 - acc: 0.8995 - val_loss: 0.2116 - val_acc: 0.9222\n",
      "Epoch 22/40\n",
      " - 1172s - loss: 0.2738 - acc: 0.9007 - val_loss: 0.2199 - val_acc: 0.9177\n",
      "Epoch 23/40\n",
      " - 1163s - loss: 0.2700 - acc: 0.9024 - val_loss: 0.2235 - val_acc: 0.9142\n",
      "Epoch 24/40\n",
      " - 1165s - loss: 0.2721 - acc: 0.9017 - val_loss: 0.2306 - val_acc: 0.9086\n",
      "Epoch 25/40\n",
      " - 1171s - loss: 0.2682 - acc: 0.9041 - val_loss: 0.2234 - val_acc: 0.9153\n",
      "Epoch 26/40\n",
      " - 1170s - loss: 0.2647 - acc: 0.9038 - val_loss: 0.2153 - val_acc: 0.9198\n",
      "Epoch 27/40\n",
      " - 1160s - loss: 0.2590 - acc: 0.9069 - val_loss: 0.2222 - val_acc: 0.9178\n",
      "Epoch 28/40\n",
      " - 1193s - loss: 0.2604 - acc: 0.9049 - val_loss: 0.2088 - val_acc: 0.9242\n",
      "Epoch 29/40\n",
      " - 1307s - loss: 0.2596 - acc: 0.9071 - val_loss: 0.1996 - val_acc: 0.9265\n",
      "Epoch 30/40\n",
      " - 1149s - loss: 0.2552 - acc: 0.9089 - val_loss: 0.1995 - val_acc: 0.9284\n",
      "Epoch 31/40\n",
      " - 1089s - loss: 0.2518 - acc: 0.9094 - val_loss: 0.1948 - val_acc: 0.9299\n",
      "Epoch 32/40\n",
      " - 1110s - loss: 0.2494 - acc: 0.9095 - val_loss: 0.1973 - val_acc: 0.9285\n",
      "Epoch 33/40\n",
      " - 1187s - loss: 0.2486 - acc: 0.9104 - val_loss: 0.2084 - val_acc: 0.9217\n",
      "Epoch 34/40\n",
      " - 1092s - loss: 0.2451 - acc: 0.9123 - val_loss: 0.1931 - val_acc: 0.9300\n",
      "Epoch 35/40\n",
      " - 1091s - loss: 0.2439 - acc: 0.9117 - val_loss: 0.2093 - val_acc: 0.9233\n",
      "Epoch 36/40\n",
      " - 1102s - loss: 0.2435 - acc: 0.9111 - val_loss: 0.1916 - val_acc: 0.9308\n",
      "Epoch 37/40\n",
      " - 1119s - loss: 0.2379 - acc: 0.9139 - val_loss: 0.2297 - val_acc: 0.9190\n",
      "Epoch 38/40\n",
      " - 1262s - loss: 0.2383 - acc: 0.9153 - val_loss: 0.2002 - val_acc: 0.9278\n",
      "Epoch 39/40\n",
      " - 1291s - loss: 0.2356 - acc: 0.9159 - val_loss: 0.1990 - val_acc: 0.9255\n",
      "Epoch 40/40\n",
      " - 1267s - loss: 0.2329 - acc: 0.9158 - val_loss: 0.2122 - val_acc: 0.9229\n"
     ]
    }
   ],
   "source": [
    "# Fitting the Model\n",
    "batch_size = 128\n",
    "epochs = 40\n",
    "\n",
    "\n",
    "# Fit the model\n",
    "train_model = model.fit_generator(datagen.flow(X_train,y_train, batch_size=batch_size),\n",
    "                              epochs = epochs, \n",
    "                              validation_data = (X_val,y_val), \n",
    "                              verbose=2)"
   ]
  },
  {
   "cell_type": "code",
   "execution_count": 28,
   "metadata": {},
   "outputs": [
    {
     "name": "stdout",
     "output_type": "stream",
     "text": [
      "12000/12000 [==============================] - 67s 6ms/step\n",
      "Loss: 0.2122\n",
      "Accuracy: 0.9229\n"
     ]
    }
   ],
   "source": [
    "# Evaluation the Results\n",
    "score = model.evaluate(X_val, y_val)\n",
    "\n",
    "print('Loss: {:.4f}'.format(score[0]))\n",
    "print('Accuracy: {:.4f}'.format(score[1]))"
   ]
  },
  {
   "cell_type": "code",
   "execution_count": 30,
   "metadata": {},
   "outputs": [
    {
     "data": {
      "text/html": [
       "        <script type=\"text/javascript\">\n",
       "        window.PlotlyConfig = {MathJaxConfig: 'local'};\n",
       "        if (window.MathJax) {MathJax.Hub.Config({SVG: {font: \"STIX-Web\"}});}\n",
       "        if (typeof require !== 'undefined') {\n",
       "        require.undef(\"plotly\");\n",
       "        requirejs.config({\n",
       "            paths: {\n",
       "                'plotly': ['https://cdn.plot.ly/plotly-latest.min']\n",
       "            }\n",
       "        });\n",
       "        require(['plotly'], function(Plotly) {\n",
       "            window._Plotly = Plotly;\n",
       "        });\n",
       "        }\n",
       "        </script>\n",
       "        "
      ]
     },
     "metadata": {},
     "output_type": "display_data"
    },
    {
     "name": "stdout",
     "output_type": "stream",
     "text": [
      "This is the format of your plot grid:\n",
      "[ (1,1) x1,y1 ]  [ (1,2) x2,y2 ]\n",
      "\n"
     ]
    },
    {
     "data": {
      "application/vnd.plotly.v1+json": {
       "config": {
        "linkText": "Export to plot.ly",
        "plotlyServerURL": "https://plot.ly",
        "responsive": true,
        "showLink": false
       },
       "data": [
        {
         "marker": {
          "color": "Green"
         },
         "mode": "markers+lines",
         "name": "Training accuracy",
         "text": [
          "1",
          "2",
          "3",
          "4",
          "5",
          "6",
          "7",
          "8",
          "9",
          "10",
          "11",
          "12",
          "13",
          "14",
          "15",
          "16",
          "17",
          "18",
          "19",
          "20",
          "21",
          "22",
          "23",
          "24",
          "25",
          "26",
          "27",
          "28",
          "29",
          "30",
          "31",
          "32",
          "33",
          "34",
          "35",
          "36",
          "37",
          "38",
          "39",
          "40"
         ],
         "type": "scatter",
         "uid": "a6c5864d-37e6-402d-ba22-ae4c468759c7",
         "x": [
          1,
          2,
          3,
          4,
          5,
          6,
          7,
          8,
          9,
          10,
          11,
          12,
          13,
          14,
          15,
          16,
          17,
          18,
          19,
          20,
          21,
          22,
          23,
          24,
          25,
          26,
          27,
          28,
          29,
          30,
          31,
          32,
          33,
          34,
          35,
          36,
          37,
          38,
          39,
          40
         ],
         "xaxis": "x",
         "y": [
          0.700625,
          0.7967291666666667,
          0.8286458333333333,
          0.8460625,
          0.8540416666666667,
          0.8633125,
          0.8654583333333333,
          0.8706041666666666,
          0.8753125,
          0.8779375,
          0.8821666666666667,
          0.8835625,
          0.8864583333333333,
          0.8886458333333334,
          0.8900625,
          0.8926875,
          0.8954375,
          0.895625,
          0.8947291666666667,
          0.8973958333333333,
          0.8994791666666667,
          0.9006666666666666,
          0.9023958333333333,
          0.9017291666666667,
          0.9040833333333333,
          0.9038333333333334,
          0.9069375,
          0.9049375,
          0.9071041666666667,
          0.9089166666666667,
          0.9093541666666667,
          0.9094583333333334,
          0.9104166666666667,
          0.9123125,
          0.9117083333333333,
          0.9111458333333333,
          0.9138958333333334,
          0.9153125,
          0.9159166666666667,
          0.9157708333333333
         ],
         "yaxis": "y"
        },
        {
         "marker": {
          "color": "Red"
         },
         "mode": "markers+lines",
         "name": "Validation accuracy",
         "text": [
          "1",
          "2",
          "3",
          "4",
          "5",
          "6",
          "7",
          "8",
          "9",
          "10",
          "11",
          "12",
          "13",
          "14",
          "15",
          "16",
          "17",
          "18",
          "19",
          "20",
          "21",
          "22",
          "23",
          "24",
          "25",
          "26",
          "27",
          "28",
          "29",
          "30",
          "31",
          "32",
          "33",
          "34",
          "35",
          "36",
          "37",
          "38",
          "39",
          "40"
         ],
         "type": "scatter",
         "uid": "b842499f-8a0a-4354-8d12-a0e9ba83b5ed",
         "x": [
          1,
          2,
          3,
          4,
          5,
          6,
          7,
          8,
          9,
          10,
          11,
          12,
          13,
          14,
          15,
          16,
          17,
          18,
          19,
          20,
          21,
          22,
          23,
          24,
          25,
          26,
          27,
          28,
          29,
          30,
          31,
          32,
          33,
          34,
          35,
          36,
          37,
          38,
          39,
          40
         ],
         "xaxis": "x",
         "y": [
          0.7865000001589457,
          0.8535000001589457,
          0.8697499998410543,
          0.876,
          0.888416666507721,
          0.8965000001589457,
          0.8890833334922791,
          0.8950000001589458,
          0.8939166666666667,
          0.9068333331743876,
          0.912666666507721,
          0.9073333334922791,
          0.8964166666666666,
          0.9193333334922791,
          0.9008333331743876,
          0.9095833333333333,
          0.9079999998410543,
          0.920916666507721,
          0.9173333334922791,
          0.9226666668256124,
          0.9221666666666667,
          0.9177499998410543,
          0.9142499998410543,
          0.9085833331743877,
          0.9152500001589458,
          0.9198333331743876,
          0.917833333492279,
          0.9241666668256124,
          0.9264999998410542,
          0.9284166668256124,
          0.9299166668256124,
          0.9285,
          0.9216666666666666,
          0.9300000001589457,
          0.92325,
          0.9308333333333333,
          0.919,
          0.9278333331743877,
          0.9255,
          0.922916666507721
         ],
         "yaxis": "y"
        },
        {
         "marker": {
          "color": "Blue"
         },
         "mode": "markers+lines",
         "name": "Training loss",
         "text": [
          "1",
          "2",
          "3",
          "4",
          "5",
          "6",
          "7",
          "8",
          "9",
          "10",
          "11",
          "12",
          "13",
          "14",
          "15",
          "16",
          "17",
          "18",
          "19",
          "20",
          "21",
          "22",
          "23",
          "24",
          "25",
          "26",
          "27",
          "28",
          "29",
          "30",
          "31",
          "32",
          "33",
          "34",
          "35",
          "36",
          "37",
          "38",
          "39",
          "40"
         ],
         "type": "scatter",
         "uid": "9ff58783-44cc-42c3-8ca8-fe5006f58dea",
         "x": [
          1,
          2,
          3,
          4,
          5,
          6,
          7,
          8,
          9,
          10,
          11,
          12,
          13,
          14,
          15,
          16,
          17,
          18,
          19,
          20,
          21,
          22,
          23,
          24,
          25,
          26,
          27,
          28,
          29,
          30,
          31,
          32,
          33,
          34,
          35,
          36,
          37,
          38,
          39,
          40
         ],
         "xaxis": "x2",
         "y": [
          0.8386671134630839,
          0.5537998250325521,
          0.47321946851412455,
          0.4310008707443873,
          0.40564787471294406,
          0.3844181251923243,
          0.37328125011920926,
          0.3577297195196152,
          0.34602767443656923,
          0.33989305651187895,
          0.33031545182069144,
          0.3217068931659063,
          0.3160882728099823,
          0.3110499997138977,
          0.30311306993166603,
          0.3001549759308497,
          0.2926083638270696,
          0.28851208651065824,
          0.2876070310672124,
          0.28324938015143075,
          0.27779145642121633,
          0.27383146637678146,
          0.27001536822319033,
          0.2721425315539042,
          0.2682484131852786,
          0.26468536859750746,
          0.2589879588286082,
          0.2603739419579506,
          0.259581130584081,
          0.2552328625718753,
          0.2518233302632968,
          0.24935966875155766,
          0.2486195909778277,
          0.2451297993461291,
          0.24389334632953008,
          0.24345211213827134,
          0.23788867710034053,
          0.23830224281549453,
          0.23558818900585174,
          0.23289313797156017
         ],
         "yaxis": "y2"
        },
        {
         "marker": {
          "color": "Magenta"
         },
         "mode": "markers+lines",
         "name": "Validation loss",
         "text": [
          "1",
          "2",
          "3",
          "4",
          "5",
          "6",
          "7",
          "8",
          "9",
          "10",
          "11",
          "12",
          "13",
          "14",
          "15",
          "16",
          "17",
          "18",
          "19",
          "20",
          "21",
          "22",
          "23",
          "24",
          "25",
          "26",
          "27",
          "28",
          "29",
          "30",
          "31",
          "32",
          "33",
          "34",
          "35",
          "36",
          "37",
          "38",
          "39",
          "40"
         ],
         "type": "scatter",
         "uid": "ec2872b2-e778-4b31-a1bd-85a73a92ab8f",
         "x": [
          1,
          2,
          3,
          4,
          5,
          6,
          7,
          8,
          9,
          10,
          11,
          12,
          13,
          14,
          15,
          16,
          17,
          18,
          19,
          20,
          21,
          22,
          23,
          24,
          25,
          26,
          27,
          28,
          29,
          30,
          31,
          32,
          33,
          34,
          35,
          36,
          37,
          38,
          39,
          40
         ],
         "xaxis": "x2",
         "y": [
          0.5436480301221212,
          0.3945747010707855,
          0.3532178706328074,
          0.32298826885223386,
          0.30625258485476176,
          0.27660327140490215,
          0.2922305332819621,
          0.27538121565183005,
          0.2776609054803848,
          0.2499429699977239,
          0.23754218780994416,
          0.246395001689593,
          0.25953376189867655,
          0.22105096912384034,
          0.26538113049666084,
          0.23789078303178152,
          0.24130138727029166,
          0.21666264013449352,
          0.22206499270598093,
          0.21090827838579815,
          0.2115817121664683,
          0.21985628163814544,
          0.22348643938700358,
          0.23057023561000825,
          0.22336377533276877,
          0.215299503048261,
          0.22216017210483552,
          0.20877589015165965,
          0.19962998720010122,
          0.19953104972839356,
          0.1948092174132665,
          0.1972656055688858,
          0.2083788783152898,
          0.19305871240297953,
          0.20928410085042318,
          0.191583558122317,
          0.229664857506752,
          0.20020119965076447,
          0.19898529104391735,
          0.21220296291510263
         ],
         "yaxis": "y2"
        }
       ],
       "layout": {
        "annotations": [
         {
          "font": {
           "size": 16
          },
          "showarrow": false,
          "text": "Training and validation accuracy",
          "x": 0.225,
          "xanchor": "center",
          "xref": "paper",
          "y": 1,
          "yanchor": "bottom",
          "yref": "paper"
         },
         {
          "font": {
           "size": 16
          },
          "showarrow": false,
          "text": "Training and validation loss",
          "x": 0.775,
          "xanchor": "center",
          "xref": "paper",
          "y": 1,
          "yanchor": "bottom",
          "yref": "paper"
         }
        ],
        "xaxis": {
         "anchor": "y",
         "domain": [
          0,
          0.45
         ],
         "title": {
          "text": "Epoch"
         }
        },
        "xaxis2": {
         "anchor": "y2",
         "domain": [
          0.55,
          1
         ],
         "title": {
          "text": "Epoch"
         }
        },
        "yaxis": {
         "anchor": "x",
         "domain": [
          0,
          1
         ],
         "range": [
          0,
          1
         ],
         "title": {
          "text": "Accuracy"
         }
        },
        "yaxis2": {
         "anchor": "x2",
         "domain": [
          0,
          1
         ],
         "range": [
          0,
          1
         ],
         "title": {
          "text": "Loss"
         }
        }
       }
      },
      "text/html": [
       "<div>\n",
       "        \n",
       "        \n",
       "            <div id=\"64380451-a4f1-45b8-8f44-a22d6cdc64a8\" class=\"plotly-graph-div\" style=\"height:525px; width:100%;\"></div>\n",
       "            <script type=\"text/javascript\">\n",
       "                require([\"plotly\"], function(Plotly) {\n",
       "                    window.PLOTLYENV=window.PLOTLYENV || {};\n",
       "                    window.PLOTLYENV.BASE_URL='https://plot.ly';\n",
       "                    \n",
       "                if (document.getElementById(\"64380451-a4f1-45b8-8f44-a22d6cdc64a8\")) {\n",
       "                    Plotly.newPlot(\n",
       "                        '64380451-a4f1-45b8-8f44-a22d6cdc64a8',\n",
       "                        [{\"marker\": {\"color\": \"Green\"}, \"mode\": \"markers+lines\", \"name\": \"Training accuracy\", \"text\": [\"1\", \"2\", \"3\", \"4\", \"5\", \"6\", \"7\", \"8\", \"9\", \"10\", \"11\", \"12\", \"13\", \"14\", \"15\", \"16\", \"17\", \"18\", \"19\", \"20\", \"21\", \"22\", \"23\", \"24\", \"25\", \"26\", \"27\", \"28\", \"29\", \"30\", \"31\", \"32\", \"33\", \"34\", \"35\", \"36\", \"37\", \"38\", \"39\", \"40\"], \"type\": \"scatter\", \"uid\": \"dede10da-0073-4f1e-b531-42ea9b55c47d\", \"x\": [1, 2, 3, 4, 5, 6, 7, 8, 9, 10, 11, 12, 13, 14, 15, 16, 17, 18, 19, 20, 21, 22, 23, 24, 25, 26, 27, 28, 29, 30, 31, 32, 33, 34, 35, 36, 37, 38, 39, 40], \"xaxis\": \"x\", \"y\": [0.700625, 0.7967291666666667, 0.8286458333333333, 0.8460625, 0.8540416666666667, 0.8633125, 0.8654583333333333, 0.8706041666666666, 0.8753125, 0.8779375, 0.8821666666666667, 0.8835625, 0.8864583333333333, 0.8886458333333334, 0.8900625, 0.8926875, 0.8954375, 0.895625, 0.8947291666666667, 0.8973958333333333, 0.8994791666666667, 0.9006666666666666, 0.9023958333333333, 0.9017291666666667, 0.9040833333333333, 0.9038333333333334, 0.9069375, 0.9049375, 0.9071041666666667, 0.9089166666666667, 0.9093541666666667, 0.9094583333333334, 0.9104166666666667, 0.9123125, 0.9117083333333333, 0.9111458333333333, 0.9138958333333334, 0.9153125, 0.9159166666666667, 0.9157708333333333], \"yaxis\": \"y\"}, {\"marker\": {\"color\": \"Red\"}, \"mode\": \"markers+lines\", \"name\": \"Validation accuracy\", \"text\": [\"1\", \"2\", \"3\", \"4\", \"5\", \"6\", \"7\", \"8\", \"9\", \"10\", \"11\", \"12\", \"13\", \"14\", \"15\", \"16\", \"17\", \"18\", \"19\", \"20\", \"21\", \"22\", \"23\", \"24\", \"25\", \"26\", \"27\", \"28\", \"29\", \"30\", \"31\", \"32\", \"33\", \"34\", \"35\", \"36\", \"37\", \"38\", \"39\", \"40\"], \"type\": \"scatter\", \"uid\": \"9b729a85-5c1c-4fb5-a255-00d426519149\", \"x\": [1, 2, 3, 4, 5, 6, 7, 8, 9, 10, 11, 12, 13, 14, 15, 16, 17, 18, 19, 20, 21, 22, 23, 24, 25, 26, 27, 28, 29, 30, 31, 32, 33, 34, 35, 36, 37, 38, 39, 40], \"xaxis\": \"x\", \"y\": [0.7865000001589457, 0.8535000001589457, 0.8697499998410543, 0.876, 0.888416666507721, 0.8965000001589457, 0.8890833334922791, 0.8950000001589458, 0.8939166666666667, 0.9068333331743876, 0.912666666507721, 0.9073333334922791, 0.8964166666666666, 0.9193333334922791, 0.9008333331743876, 0.9095833333333333, 0.9079999998410543, 0.920916666507721, 0.9173333334922791, 0.9226666668256124, 0.9221666666666667, 0.9177499998410543, 0.9142499998410543, 0.9085833331743877, 0.9152500001589458, 0.9198333331743876, 0.917833333492279, 0.9241666668256124, 0.9264999998410542, 0.9284166668256124, 0.9299166668256124, 0.9285, 0.9216666666666666, 0.9300000001589457, 0.92325, 0.9308333333333333, 0.919, 0.9278333331743877, 0.9255, 0.922916666507721], \"yaxis\": \"y\"}, {\"marker\": {\"color\": \"Blue\"}, \"mode\": \"markers+lines\", \"name\": \"Training loss\", \"text\": [\"1\", \"2\", \"3\", \"4\", \"5\", \"6\", \"7\", \"8\", \"9\", \"10\", \"11\", \"12\", \"13\", \"14\", \"15\", \"16\", \"17\", \"18\", \"19\", \"20\", \"21\", \"22\", \"23\", \"24\", \"25\", \"26\", \"27\", \"28\", \"29\", \"30\", \"31\", \"32\", \"33\", \"34\", \"35\", \"36\", \"37\", \"38\", \"39\", \"40\"], \"type\": \"scatter\", \"uid\": \"77054cf6-d71a-4327-8180-13eee70c931f\", \"x\": [1, 2, 3, 4, 5, 6, 7, 8, 9, 10, 11, 12, 13, 14, 15, 16, 17, 18, 19, 20, 21, 22, 23, 24, 25, 26, 27, 28, 29, 30, 31, 32, 33, 34, 35, 36, 37, 38, 39, 40], \"xaxis\": \"x2\", \"y\": [0.8386671134630839, 0.5537998250325521, 0.47321946851412455, 0.4310008707443873, 0.40564787471294406, 0.3844181251923243, 0.37328125011920926, 0.3577297195196152, 0.34602767443656923, 0.33989305651187895, 0.33031545182069144, 0.3217068931659063, 0.3160882728099823, 0.3110499997138977, 0.30311306993166603, 0.3001549759308497, 0.2926083638270696, 0.28851208651065824, 0.2876070310672124, 0.28324938015143075, 0.27779145642121633, 0.27383146637678146, 0.27001536822319033, 0.2721425315539042, 0.2682484131852786, 0.26468536859750746, 0.2589879588286082, 0.2603739419579506, 0.259581130584081, 0.2552328625718753, 0.2518233302632968, 0.24935966875155766, 0.2486195909778277, 0.2451297993461291, 0.24389334632953008, 0.24345211213827134, 0.23788867710034053, 0.23830224281549453, 0.23558818900585174, 0.23289313797156017], \"yaxis\": \"y2\"}, {\"marker\": {\"color\": \"Magenta\"}, \"mode\": \"markers+lines\", \"name\": \"Validation loss\", \"text\": [\"1\", \"2\", \"3\", \"4\", \"5\", \"6\", \"7\", \"8\", \"9\", \"10\", \"11\", \"12\", \"13\", \"14\", \"15\", \"16\", \"17\", \"18\", \"19\", \"20\", \"21\", \"22\", \"23\", \"24\", \"25\", \"26\", \"27\", \"28\", \"29\", \"30\", \"31\", \"32\", \"33\", \"34\", \"35\", \"36\", \"37\", \"38\", \"39\", \"40\"], \"type\": \"scatter\", \"uid\": \"6c9b3327-d5d3-4b32-8090-94b6b99dce1e\", \"x\": [1, 2, 3, 4, 5, 6, 7, 8, 9, 10, 11, 12, 13, 14, 15, 16, 17, 18, 19, 20, 21, 22, 23, 24, 25, 26, 27, 28, 29, 30, 31, 32, 33, 34, 35, 36, 37, 38, 39, 40], \"xaxis\": \"x2\", \"y\": [0.5436480301221212, 0.3945747010707855, 0.3532178706328074, 0.32298826885223386, 0.30625258485476176, 0.27660327140490215, 0.2922305332819621, 0.27538121565183005, 0.2776609054803848, 0.2499429699977239, 0.23754218780994416, 0.246395001689593, 0.25953376189867655, 0.22105096912384034, 0.26538113049666084, 0.23789078303178152, 0.24130138727029166, 0.21666264013449352, 0.22206499270598093, 0.21090827838579815, 0.2115817121664683, 0.21985628163814544, 0.22348643938700358, 0.23057023561000825, 0.22336377533276877, 0.215299503048261, 0.22216017210483552, 0.20877589015165965, 0.19962998720010122, 0.19953104972839356, 0.1948092174132665, 0.1972656055688858, 0.2083788783152898, 0.19305871240297953, 0.20928410085042318, 0.191583558122317, 0.229664857506752, 0.20020119965076447, 0.19898529104391735, 0.21220296291510263], \"yaxis\": \"y2\"}],\n",
       "                        {\"annotations\": [{\"font\": {\"size\": 16}, \"showarrow\": false, \"text\": \"Training and validation accuracy\", \"x\": 0.225, \"xanchor\": \"center\", \"xref\": \"paper\", \"y\": 1.0, \"yanchor\": \"bottom\", \"yref\": \"paper\"}, {\"font\": {\"size\": 16}, \"showarrow\": false, \"text\": \"Training and validation loss\", \"x\": 0.775, \"xanchor\": \"center\", \"xref\": \"paper\", \"y\": 1.0, \"yanchor\": \"bottom\", \"yref\": \"paper\"}], \"xaxis\": {\"anchor\": \"y\", \"domain\": [0.0, 0.45], \"title\": {\"text\": \"Epoch\"}}, \"xaxis2\": {\"anchor\": \"y2\", \"domain\": [0.55, 1.0], \"title\": {\"text\": \"Epoch\"}}, \"yaxis\": {\"anchor\": \"x\", \"domain\": [0.0, 1.0], \"range\": [0, 1], \"title\": {\"text\": \"Accuracy\"}}, \"yaxis2\": {\"anchor\": \"x2\", \"domain\": [0.0, 1.0], \"range\": [0, 1], \"title\": {\"text\": \"Loss\"}}},\n",
       "                        {\"showLink\": false, \"linkText\": \"Export to plot.ly\", \"plotlyServerURL\": \"https://plot.ly\", \"responsive\": true}\n",
       "                    ).then(function(){\n",
       "                            \n",
       "var gd = document.getElementById('64380451-a4f1-45b8-8f44-a22d6cdc64a8');\n",
       "var x = new MutationObserver(function (mutations, observer) {{\n",
       "        var display = window.getComputedStyle(gd).display;\n",
       "        if (!display || display === 'none') {{\n",
       "            console.log([gd, 'removed!']);\n",
       "            Plotly.purge(gd);\n",
       "            observer.disconnect();\n",
       "        }}\n",
       "}});\n",
       "\n",
       "// Listen for the removal of the full notebook cells\n",
       "var notebookContainer = gd.closest('#notebook-container');\n",
       "if (notebookContainer) {{\n",
       "    x.observe(notebookContainer, {childList: true});\n",
       "}}\n",
       "\n",
       "// Listen for the clearing of the current output cell\n",
       "var outputEl = gd.closest('.output');\n",
       "if (outputEl) {{\n",
       "    x.observe(outputEl, {childList: true});\n",
       "}}\n",
       "\n",
       "                        })\n",
       "                };\n",
       "                });\n",
       "            </script>\n",
       "        </div>"
      ]
     },
     "metadata": {},
     "output_type": "display_data"
    }
   ],
   "source": [
    "plot_accuracy_and_loss(train_model)"
   ]
  },
  {
   "cell_type": "markdown",
   "metadata": {},
   "source": [
    "After tunning the parameters, the validation accuracy and validation loss are much better."
   ]
  },
  {
   "cell_type": "code",
   "execution_count": 32,
   "metadata": {},
   "outputs": [
    {
     "name": "stdout",
     "output_type": "stream",
     "text": [
      "Test loss: 0.19066306959688664\n",
      "Test accuracy: 0.9308\n"
     ]
    }
   ],
   "source": [
    "# Now, evaluate the test prediction accuracy with the new model\n",
    "score = model.evaluate(test, y_test, verbose=0)\n",
    "print('Test loss:', score[0])\n",
    "print('Test accuracy:', score[1])"
   ]
  },
  {
   "cell_type": "markdown",
   "metadata": {},
   "source": [
    "Also, the test accuracy increased."
   ]
  },
  {
   "cell_type": "code",
   "execution_count": 36,
   "metadata": {},
   "outputs": [
    {
     "data": {
      "image/png": "[encoded data removed]",
      "text/plain": [
       "<Figure size 720x720 with 2 Axes>"
      ]
     },
     "metadata": {
      "needs_background": "light"
     },
     "output_type": "display_data"
    }
   ],
   "source": [
    "# Plot confusion matrix\n",
    "\n",
    "import math \n",
    "import itertools\n",
    "\n",
    "def plot_confusion_matrix(cm, classes,\n",
    "                          normalize=False,\n",
    "                          title='Confusion matrix',\n",
    "                          cmap=plt.cm.Blues):\n",
    "    \n",
    "    plt.figure(figsize=(10,10))\n",
    "    plt.imshow(cm, interpolation='nearest', cmap=cmap)\n",
    "    plt.title(title)\n",
    "    plt.colorbar()\n",
    "    tick_marks = np.arange(len(classes))\n",
    "    plt.xticks(tick_marks, classes, rotation=90)\n",
    "    plt.yticks(tick_marks, classes)\n",
    "\n",
    "    if normalize:\n",
    "        cm = cm.astype('float') / cm.sum(axis=1)[:, np.newaxis]\n",
    "\n",
    "    thresh = cm.max() / 2.\n",
    "    for i, j in itertools.product(range(cm.shape[0]), range(cm.shape[1])):\n",
    "        plt.text(j, i, cm[i, j],\n",
    "                 horizontalalignment=\"center\",\n",
    "                 color=\"white\" if cm[i, j] > thresh else \"black\")\n",
    "\n",
    "    plt.tight_layout()\n",
    "    plt.ylabel('True label')\n",
    "    plt.xlabel('Predicted label')\n",
    "    \n",
    "    \n",
    "\n",
    "# Predict the values from the validation dataset\n",
    "Y_pred = model.predict(X_val)\n",
    "# Convert predictions classes to one hot vectors \n",
    "Y_pred_classes = np.argmax(Y_pred,axis = 1) \n",
    "# Convert validation observations to one hot vectors\n",
    "Y_true = np.argmax(y_val,axis = 1) \n",
    "# compute the confusion matrix\n",
    "confusion_mtx = confusion_matrix(Y_true, Y_pred_classes) \n",
    "# plot the confusion matrix\n",
    "plot_confusion_matrix(confusion_mtx, \n",
    "            classes = ['T-shirt/Top','Trouser','Pullover','Dress','Coat','Sandal','Shirt','Sneaker','Bag','Ankle Boot'])"
   ]
  },
  {
   "cell_type": "code",
   "execution_count": 35,
   "metadata": {},
   "outputs": [
    {
     "name": "stdout",
     "output_type": "stream",
     "text": [
      "              precision    recall  f1-score   support\n",
      "\n",
      " T-shirt/Top       0.85      0.90      0.88      1232\n",
      "     Trouser       0.99      0.99      0.99      1174\n",
      "    Pullover       0.84      0.94      0.88      1200\n",
      "       Dress       0.94      0.88      0.91      1242\n",
      "        Coat       0.85      0.89      0.87      1185\n",
      "      Sandal       0.99      0.99      0.99      1141\n",
      "       Shirt       0.84      0.70      0.76      1243\n",
      "     Sneaker       0.98      0.98      0.98      1224\n",
      "         Bag       0.99      0.99      0.99      1149\n",
      "  Ankle Boot       0.98      0.98      0.98      1210\n",
      "\n",
      "   micro avg       0.92      0.92      0.92     12000\n",
      "   macro avg       0.92      0.92      0.92     12000\n",
      "weighted avg       0.92      0.92      0.92     12000\n",
      "\n"
     ]
    }
   ],
   "source": [
    "# Classification Report\n",
    "classes = ['T-shirt/Top','Trouser','Pullover','Dress','Coat','Sandal','Shirt','Sneaker','Bag','Ankle Boot']\n",
    "print(classification_report(Y_true, Y_pred_classes, target_names = classes))"
   ]
  },
  {
   "cell_type": "code",
   "execution_count": null,
   "metadata": {},
   "outputs": [],
   "source": []
  }
 ],
 "metadata": {
  "kernelspec": {
   "display_name": "Python 3",
   "language": "python",
   "name": "python3"
  },
  "language_info": {
   "codemirror_mode": {
    "name": "ipython",
    "version": 3
   },
   "file_extension": ".py",
   "mimetype": "text/x-python",
   "name": "python",
   "nbconvert_exporter": "python",
   "pygments_lexer": "ipython3",
   "version": "3.7.1"
  }
 },
 "nbformat": 4,
 "nbformat_minor": 2
}
